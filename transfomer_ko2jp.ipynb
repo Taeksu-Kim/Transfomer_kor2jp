{
  "nbformat": 4,
  "nbformat_minor": 0,
  "metadata": {
    "accelerator": "GPU",
    "colab": {
      "name": "transfomer_ko2jp.ipynb",
      "provenance": [],
      "collapsed_sections": [],
      "machine_shape": "hm"
    },
    "kernelspec": {
      "display_name": "Python 3",
      "name": "python3"
    },
    "language_info": {
      "name": "python"
    },
    "widgets": {
      "application/vnd.jupyter.widget-state+json": {
        "43d4fe8c3c1344038260f1ba5c5c96b3": {
          "model_module": "@jupyter-widgets/controls",
          "model_name": "HBoxModel",
          "model_module_version": "1.5.0",
          "state": {
            "_view_name": "HBoxView",
            "_dom_classes": [],
            "_model_name": "HBoxModel",
            "_view_module": "@jupyter-widgets/controls",
            "_model_module_version": "1.5.0",
            "_view_count": null,
            "_view_module_version": "1.5.0",
            "box_style": "",
            "layout": "IPY_MODEL_bdf4f6b591b04ac9b2830a082d641022",
            "_model_module": "@jupyter-widgets/controls",
            "children": [
              "IPY_MODEL_655252703626438fa874ef4382614102",
              "IPY_MODEL_dd3e57e7ebcf43a0adb3af36beefd529",
              "IPY_MODEL_0a773283b8ca4d5dbc609d832e769f23"
            ]
          }
        },
        "bdf4f6b591b04ac9b2830a082d641022": {
          "model_module": "@jupyter-widgets/base",
          "model_name": "LayoutModel",
          "model_module_version": "1.2.0",
          "state": {
            "_view_name": "LayoutView",
            "grid_template_rows": null,
            "right": null,
            "justify_content": null,
            "_view_module": "@jupyter-widgets/base",
            "overflow": null,
            "_model_module_version": "1.2.0",
            "_view_count": null,
            "flex_flow": null,
            "width": null,
            "min_width": null,
            "border": null,
            "align_items": null,
            "bottom": null,
            "_model_module": "@jupyter-widgets/base",
            "top": null,
            "grid_column": null,
            "overflow_y": null,
            "overflow_x": null,
            "grid_auto_flow": null,
            "grid_area": null,
            "grid_template_columns": null,
            "flex": null,
            "_model_name": "LayoutModel",
            "justify_items": null,
            "grid_row": null,
            "max_height": null,
            "align_content": null,
            "visibility": null,
            "align_self": null,
            "height": null,
            "min_height": null,
            "padding": null,
            "grid_auto_rows": null,
            "grid_gap": null,
            "max_width": null,
            "order": null,
            "_view_module_version": "1.2.0",
            "grid_template_areas": null,
            "object_position": null,
            "object_fit": null,
            "grid_auto_columns": null,
            "margin": null,
            "display": null,
            "left": null
          }
        },
        "655252703626438fa874ef4382614102": {
          "model_module": "@jupyter-widgets/controls",
          "model_name": "HTMLModel",
          "model_module_version": "1.5.0",
          "state": {
            "_view_name": "HTMLView",
            "style": "IPY_MODEL_95a9433bdefd488e8363a6f6a869048c",
            "_dom_classes": [],
            "description": "",
            "_model_name": "HTMLModel",
            "placeholder": "​",
            "_view_module": "@jupyter-widgets/controls",
            "_model_module_version": "1.5.0",
            "value": "100%",
            "_view_count": null,
            "_view_module_version": "1.5.0",
            "description_tooltip": null,
            "_model_module": "@jupyter-widgets/controls",
            "layout": "IPY_MODEL_12e34b0344ba4a55a137c5eee1ae94fd"
          }
        },
        "dd3e57e7ebcf43a0adb3af36beefd529": {
          "model_module": "@jupyter-widgets/controls",
          "model_name": "FloatProgressModel",
          "model_module_version": "1.5.0",
          "state": {
            "_view_name": "ProgressView",
            "style": "IPY_MODEL_294d157e93154781ae28edf9021b130c",
            "_dom_classes": [],
            "description": "",
            "_model_name": "FloatProgressModel",
            "bar_style": "success",
            "max": 160000,
            "_view_module": "@jupyter-widgets/controls",
            "_model_module_version": "1.5.0",
            "value": 160000,
            "_view_count": null,
            "_view_module_version": "1.5.0",
            "orientation": "horizontal",
            "min": 0,
            "description_tooltip": null,
            "_model_module": "@jupyter-widgets/controls",
            "layout": "IPY_MODEL_f75cf5e202b144e5a28ea416ea5fedab"
          }
        },
        "0a773283b8ca4d5dbc609d832e769f23": {
          "model_module": "@jupyter-widgets/controls",
          "model_name": "HTMLModel",
          "model_module_version": "1.5.0",
          "state": {
            "_view_name": "HTMLView",
            "style": "IPY_MODEL_90dd474c1de44b7bb1a2435a27cf7540",
            "_dom_classes": [],
            "description": "",
            "_model_name": "HTMLModel",
            "placeholder": "​",
            "_view_module": "@jupyter-widgets/controls",
            "_model_module_version": "1.5.0",
            "value": " 160000/160000 [00:37&lt;00:00, 4305.31it/s]",
            "_view_count": null,
            "_view_module_version": "1.5.0",
            "description_tooltip": null,
            "_model_module": "@jupyter-widgets/controls",
            "layout": "IPY_MODEL_dcf16b9bbbb24465a7ec1f747ab73006"
          }
        },
        "95a9433bdefd488e8363a6f6a869048c": {
          "model_module": "@jupyter-widgets/controls",
          "model_name": "DescriptionStyleModel",
          "model_module_version": "1.5.0",
          "state": {
            "_view_name": "StyleView",
            "_model_name": "DescriptionStyleModel",
            "description_width": "",
            "_view_module": "@jupyter-widgets/base",
            "_model_module_version": "1.5.0",
            "_view_count": null,
            "_view_module_version": "1.2.0",
            "_model_module": "@jupyter-widgets/controls"
          }
        },
        "12e34b0344ba4a55a137c5eee1ae94fd": {
          "model_module": "@jupyter-widgets/base",
          "model_name": "LayoutModel",
          "model_module_version": "1.2.0",
          "state": {
            "_view_name": "LayoutView",
            "grid_template_rows": null,
            "right": null,
            "justify_content": null,
            "_view_module": "@jupyter-widgets/base",
            "overflow": null,
            "_model_module_version": "1.2.0",
            "_view_count": null,
            "flex_flow": null,
            "width": null,
            "min_width": null,
            "border": null,
            "align_items": null,
            "bottom": null,
            "_model_module": "@jupyter-widgets/base",
            "top": null,
            "grid_column": null,
            "overflow_y": null,
            "overflow_x": null,
            "grid_auto_flow": null,
            "grid_area": null,
            "grid_template_columns": null,
            "flex": null,
            "_model_name": "LayoutModel",
            "justify_items": null,
            "grid_row": null,
            "max_height": null,
            "align_content": null,
            "visibility": null,
            "align_self": null,
            "height": null,
            "min_height": null,
            "padding": null,
            "grid_auto_rows": null,
            "grid_gap": null,
            "max_width": null,
            "order": null,
            "_view_module_version": "1.2.0",
            "grid_template_areas": null,
            "object_position": null,
            "object_fit": null,
            "grid_auto_columns": null,
            "margin": null,
            "display": null,
            "left": null
          }
        },
        "294d157e93154781ae28edf9021b130c": {
          "model_module": "@jupyter-widgets/controls",
          "model_name": "ProgressStyleModel",
          "model_module_version": "1.5.0",
          "state": {
            "_view_name": "StyleView",
            "_model_name": "ProgressStyleModel",
            "description_width": "",
            "_view_module": "@jupyter-widgets/base",
            "_model_module_version": "1.5.0",
            "_view_count": null,
            "_view_module_version": "1.2.0",
            "bar_color": null,
            "_model_module": "@jupyter-widgets/controls"
          }
        },
        "f75cf5e202b144e5a28ea416ea5fedab": {
          "model_module": "@jupyter-widgets/base",
          "model_name": "LayoutModel",
          "model_module_version": "1.2.0",
          "state": {
            "_view_name": "LayoutView",
            "grid_template_rows": null,
            "right": null,
            "justify_content": null,
            "_view_module": "@jupyter-widgets/base",
            "overflow": null,
            "_model_module_version": "1.2.0",
            "_view_count": null,
            "flex_flow": null,
            "width": null,
            "min_width": null,
            "border": null,
            "align_items": null,
            "bottom": null,
            "_model_module": "@jupyter-widgets/base",
            "top": null,
            "grid_column": null,
            "overflow_y": null,
            "overflow_x": null,
            "grid_auto_flow": null,
            "grid_area": null,
            "grid_template_columns": null,
            "flex": null,
            "_model_name": "LayoutModel",
            "justify_items": null,
            "grid_row": null,
            "max_height": null,
            "align_content": null,
            "visibility": null,
            "align_self": null,
            "height": null,
            "min_height": null,
            "padding": null,
            "grid_auto_rows": null,
            "grid_gap": null,
            "max_width": null,
            "order": null,
            "_view_module_version": "1.2.0",
            "grid_template_areas": null,
            "object_position": null,
            "object_fit": null,
            "grid_auto_columns": null,
            "margin": null,
            "display": null,
            "left": null
          }
        },
        "90dd474c1de44b7bb1a2435a27cf7540": {
          "model_module": "@jupyter-widgets/controls",
          "model_name": "DescriptionStyleModel",
          "model_module_version": "1.5.0",
          "state": {
            "_view_name": "StyleView",
            "_model_name": "DescriptionStyleModel",
            "description_width": "",
            "_view_module": "@jupyter-widgets/base",
            "_model_module_version": "1.5.0",
            "_view_count": null,
            "_view_module_version": "1.2.0",
            "_model_module": "@jupyter-widgets/controls"
          }
        },
        "dcf16b9bbbb24465a7ec1f747ab73006": {
          "model_module": "@jupyter-widgets/base",
          "model_name": "LayoutModel",
          "model_module_version": "1.2.0",
          "state": {
            "_view_name": "LayoutView",
            "grid_template_rows": null,
            "right": null,
            "justify_content": null,
            "_view_module": "@jupyter-widgets/base",
            "overflow": null,
            "_model_module_version": "1.2.0",
            "_view_count": null,
            "flex_flow": null,
            "width": null,
            "min_width": null,
            "border": null,
            "align_items": null,
            "bottom": null,
            "_model_module": "@jupyter-widgets/base",
            "top": null,
            "grid_column": null,
            "overflow_y": null,
            "overflow_x": null,
            "grid_auto_flow": null,
            "grid_area": null,
            "grid_template_columns": null,
            "flex": null,
            "_model_name": "LayoutModel",
            "justify_items": null,
            "grid_row": null,
            "max_height": null,
            "align_content": null,
            "visibility": null,
            "align_self": null,
            "height": null,
            "min_height": null,
            "padding": null,
            "grid_auto_rows": null,
            "grid_gap": null,
            "max_width": null,
            "order": null,
            "_view_module_version": "1.2.0",
            "grid_template_areas": null,
            "object_position": null,
            "object_fit": null,
            "grid_auto_columns": null,
            "margin": null,
            "display": null,
            "left": null
          }
        }
      }
    }
  },
  "cells": [
    {
      "cell_type": "code",
      "metadata": {
        "colab": {
          "base_uri": "https://localhost:8080/"
        },
        "id": "Ws82NWZMyjVE",
        "outputId": "3cf2d894-46fd-4581-fa8c-3a851046d60a"
      },
      "source": [
        "!pip install sentencepiece"
      ],
      "execution_count": 1,
      "outputs": [
        {
          "output_type": "stream",
          "name": "stdout",
          "text": [
            "Collecting sentencepiece\n",
            "  Downloading sentencepiece-0.1.96-cp37-cp37m-manylinux_2_17_x86_64.manylinux2014_x86_64.whl (1.2 MB)\n",
            "\u001b[K     |████████████████████████████████| 1.2 MB 8.1 MB/s \n",
            "\u001b[?25hInstalling collected packages: sentencepiece\n",
            "Successfully installed sentencepiece-0.1.96\n"
          ]
        }
      ]
    },
    {
      "cell_type": "code",
      "metadata": {
        "id": "zGlgZGl9yyvq"
      },
      "source": [
        "from __future__ import absolute_import, division, print_function, unicode_literals\n",
        "\n",
        "import tensorflow as tf\n",
        "import tensorflow.keras.backend as K\n",
        "\n",
        "import os\n",
        "import re\n",
        "import numpy as np\n",
        "import pandas as pd\n",
        "import random\n",
        "import collections\n",
        "import json\n",
        "from datetime import datetime\n",
        "\n",
        "import matplotlib.pyplot as plt\n",
        "import sentencepiece as spm\n",
        "from tqdm.notebook import tqdm\n",
        "\n",
        "random_seed = 1234\n",
        "random.seed(random_seed)\n",
        "np.random.seed(random_seed)\n",
        "tf.random.set_seed(random_seed)"
      ],
      "execution_count": 2,
      "outputs": []
    },
    {
      "cell_type": "code",
      "metadata": {
        "colab": {
          "base_uri": "https://localhost:8080/"
        },
        "id": "-wuEEbXJy3lE",
        "outputId": "30367b67-953e-4a8c-8eaf-a7d2c4945d65"
      },
      "source": [
        "from google.colab import drive\n",
        "\n",
        "drive.mount('/content/drive')"
      ],
      "execution_count": 3,
      "outputs": [
        {
          "output_type": "stream",
          "name": "stdout",
          "text": [
            "Mounted at /content/drive\n"
          ]
        }
      ]
    },
    {
      "cell_type": "code",
      "metadata": {
        "id": "eDnF6Hw7zAvZ"
      },
      "source": [
        "file_path = '/content/drive/MyDrive/dataset/AI_Hub/Kor_JP_corpus'\n",
        "\n",
        "df=pd.read_csv(file_path+'/ko2ja_kpop_1_training.csv')\n"
      ],
      "execution_count": 4,
      "outputs": []
    },
    {
      "cell_type": "code",
      "metadata": {
        "colab": {
          "base_uri": "https://localhost:8080/",
          "height": 606
        },
        "id": "TaIW0DXXzQ5y",
        "outputId": "e3df9753-c52a-4cea-a902-2b082f1d65ce"
      },
      "source": [
        "df"
      ],
      "execution_count": 5,
      "outputs": [
        {
          "output_type": "execute_result",
          "data": {
            "text/html": [
              "<div>\n",
              "<style scoped>\n",
              "    .dataframe tbody tr th:only-of-type {\n",
              "        vertical-align: middle;\n",
              "    }\n",
              "\n",
              "    .dataframe tbody tr th {\n",
              "        vertical-align: top;\n",
              "    }\n",
              "\n",
              "    .dataframe thead th {\n",
              "        text-align: right;\n",
              "    }\n",
              "</style>\n",
              "<table border=\"1\" class=\"dataframe\">\n",
              "  <thead>\n",
              "    <tr style=\"text-align: right;\">\n",
              "      <th></th>\n",
              "      <th>관리번호</th>\n",
              "      <th>분야</th>\n",
              "      <th>한국어</th>\n",
              "      <th>일본어</th>\n",
              "      <th>한국어_어절수</th>\n",
              "      <th>일본어_글자수</th>\n",
              "      <th>길이_분류</th>\n",
              "      <th>출처</th>\n",
              "      <th>수행기관</th>\n",
              "    </tr>\n",
              "  </thead>\n",
              "  <tbody>\n",
              "    <tr>\n",
              "      <th>0</th>\n",
              "      <td>KO-JA-2020-KPOP-000501</td>\n",
              "      <td>K-POP(한류)/대중문화공연콘텐츠</td>\n",
              "      <td>소속사 측은 두 사람이 친한 것은 맞지만 결혼설은 사실무근이라고 강조했다.</td>\n",
              "      <td>所属事務所側は、2人が親しいのは事実だが、結婚説は事実無根だと強調した。</td>\n",
              "      <td>10</td>\n",
              "      <td>32</td>\n",
              "      <td>2</td>\n",
              "      <td>http://en.seoul.co.kr/news/newsView.php?id=201...</td>\n",
              "      <td>플리토</td>\n",
              "    </tr>\n",
              "    <tr>\n",
              "      <th>1</th>\n",
              "      <td>KO-JA-2020-KPOP-000502</td>\n",
              "      <td>K-POP(한류)/대중문화공연콘텐츠</td>\n",
              "      <td>이런 가운데, 석 씨는 \"건너편에서 장사를 하던 '영훈이네'가 3개월째 안 나오고 ...</td>\n",
              "      <td>この中で、ソク氏は「向い側で商売をしていた『ヨンフンら』が3ヶ月も出てきてなくて、アイコンタ...</td>\n",
              "      <td>15</td>\n",
              "      <td>54</td>\n",
              "      <td>3</td>\n",
              "      <td>http://www.sedaily.com/NewsView/1Z2T8EVRIB</td>\n",
              "      <td>플리토</td>\n",
              "    </tr>\n",
              "    <tr>\n",
              "      <th>2</th>\n",
              "      <td>KO-JA-2020-KPOP-000503</td>\n",
              "      <td>K-POP(한류)/대중문화공연콘텐츠</td>\n",
              "      <td>아직도 차유리를 잃은 트라우마를 겪는 조강화, 저마다의 방법으로 차유리를 가슴에 묻...</td>\n",
              "      <td>未だにチャ・ユリを失ったトラウマを体験するチョ・カンファ、それぞれの方法でチャ・ユリを心に秘...</td>\n",
              "      <td>28</td>\n",
              "      <td>122</td>\n",
              "      <td>5</td>\n",
              "      <td>http://www.sedaily.com/NewsView/1YZ1P5CJLP</td>\n",
              "      <td>플리토</td>\n",
              "    </tr>\n",
              "    <tr>\n",
              "      <th>3</th>\n",
              "      <td>KO-JA-2020-KPOP-000504</td>\n",
              "      <td>K-POP(한류)/대중문화공연콘텐츠</td>\n",
              "      <td>정말 평범한 사람인데 그 사람에게 큰 사건이 일어나며 대처와 진실을 알고자 했던 과...</td>\n",
              "      <td>本当に普通の人であるが、その人に大きな事件が起き、対処と真実を理解しようとした過程が良かった。</td>\n",
              "      <td>14</td>\n",
              "      <td>44</td>\n",
              "      <td>2</td>\n",
              "      <td>http://uci.or.kr/G703:RA101-10100101.201907031...</td>\n",
              "      <td>플리토</td>\n",
              "    </tr>\n",
              "    <tr>\n",
              "      <th>4</th>\n",
              "      <td>KO-JA-2020-KPOP-000505</td>\n",
              "      <td>K-POP(한류)/대중문화공연콘텐츠</td>\n",
              "      <td>'별, 빛(Starlight)'을 시작으로, 달콤한 목소리가 매력적인 'Got Yo...</td>\n",
              "      <td>「星光(Starlight)」をはじめ、甘い声が魅力的な「Got Your Back(ゴット...</td>\n",
              "      <td>19</td>\n",
              "      <td>52</td>\n",
              "      <td>3</td>\n",
              "      <td>http://www.sedaily.com/NewsView/1YXJJAPF9E</td>\n",
              "      <td>플리토</td>\n",
              "    </tr>\n",
              "    <tr>\n",
              "      <th>...</th>\n",
              "      <td>...</td>\n",
              "      <td>...</td>\n",
              "      <td>...</td>\n",
              "      <td>...</td>\n",
              "      <td>...</td>\n",
              "      <td>...</td>\n",
              "      <td>...</td>\n",
              "      <td>...</td>\n",
              "      <td>...</td>\n",
              "    </tr>\n",
              "    <tr>\n",
              "      <th>159995</th>\n",
              "      <td>KO-JA-2020-KPOP-160496</td>\n",
              "      <td>K-POP(한류)/대중문화공연콘텐츠</td>\n",
              "      <td>이세은은 감정이 북받친 듯 눈물을 쏟으며 노래도 제대로 부르지 못했다.</td>\n",
              "      <td>イ・セウンは感情が込み上げてきたように涙を流し、歌もまともに歌えなかった。</td>\n",
              "      <td>10</td>\n",
              "      <td>34</td>\n",
              "      <td>2</td>\n",
              "      <td>http://en.seoul.co.kr/news/newsView.php?id=201...</td>\n",
              "      <td>플리토</td>\n",
              "    </tr>\n",
              "    <tr>\n",
              "      <th>159996</th>\n",
              "      <td>KO-JA-2020-KPOP-160497</td>\n",
              "      <td>K-POP(한류)/대중문화공연콘텐츠</td>\n",
              "      <td>이날 팬 미팅에서는 장성규와 팬들 사이에서 끊임없는 '선 넘기' 상황이 펼쳐져 사람...</td>\n",
              "      <td>この日のファンミーティングでは、チャン・ソンギュとファンの間で絶えない「線を越える」状況が繰...</td>\n",
              "      <td>16</td>\n",
              "      <td>58</td>\n",
              "      <td>3</td>\n",
              "      <td>http://news.kmib.co.kr/article/view.asp?arcid=...</td>\n",
              "      <td>플리토</td>\n",
              "    </tr>\n",
              "    <tr>\n",
              "      <th>159997</th>\n",
              "      <td>KO-JA-2020-KPOP-160498</td>\n",
              "      <td>K-POP(한류)/대중문화공연콘텐츠</td>\n",
              "      <td>대한민국 최고 배우들의 환장케미가 만들어내는 완벽한 웃음과 감동으로 개봉 전부터 관...</td>\n",
              "      <td>韓国最高の俳優たちの気がおかしくなりそうな相性が作り出す完璧な笑いと感動で公開の前から観客の...</td>\n",
              "      <td>20</td>\n",
              "      <td>71</td>\n",
              "      <td>4</td>\n",
              "      <td>http://www.sedaily.com/NewsView/1VODRE9U1J</td>\n",
              "      <td>플리토</td>\n",
              "    </tr>\n",
              "    <tr>\n",
              "      <th>159998</th>\n",
              "      <td>KO-JA-2020-KPOP-160499</td>\n",
              "      <td>K-POP(한류)/대중문화공연콘텐츠</td>\n",
              "      <td>쿠바의 풍광과 여행 과정에서 겪는 소소한 에피소드들이 두 명품 배우의 중저음 나레이...</td>\n",
              "      <td>キューバの景色と旅行過程で体験する些細なエピソードが、2人の一流俳優の重低音のナレーションと...</td>\n",
              "      <td>15</td>\n",
              "      <td>54</td>\n",
              "      <td>3</td>\n",
              "      <td>http://news.kmib.co.kr/article/view.asp?arcid=...</td>\n",
              "      <td>플리토</td>\n",
              "    </tr>\n",
              "    <tr>\n",
              "      <th>159999</th>\n",
              "      <td>KO-JA-2020-KPOP-160500</td>\n",
              "      <td>K-POP(한류)/대중문화공연콘텐츠</td>\n",
              "      <td>그는 10여 년 전, 이혼한 누나의 자녀를 입양해 아들과 딸이 생겼다.</td>\n",
              "      <td>彼は約10年前、離婚した姉の子供を養子にし、息子と娘ができた。</td>\n",
              "      <td>11</td>\n",
              "      <td>26</td>\n",
              "      <td>2</td>\n",
              "      <td>http://www.sedaily.com/NewsView/1VLWO242ZF</td>\n",
              "      <td>플리토</td>\n",
              "    </tr>\n",
              "  </tbody>\n",
              "</table>\n",
              "<p>160000 rows × 9 columns</p>\n",
              "</div>"
            ],
            "text/plain": [
              "                          관리번호  ... 수행기관\n",
              "0       KO-JA-2020-KPOP-000501  ...  플리토\n",
              "1       KO-JA-2020-KPOP-000502  ...  플리토\n",
              "2       KO-JA-2020-KPOP-000503  ...  플리토\n",
              "3       KO-JA-2020-KPOP-000504  ...  플리토\n",
              "4       KO-JA-2020-KPOP-000505  ...  플리토\n",
              "...                        ...  ...  ...\n",
              "159995  KO-JA-2020-KPOP-160496  ...  플리토\n",
              "159996  KO-JA-2020-KPOP-160497  ...  플리토\n",
              "159997  KO-JA-2020-KPOP-160498  ...  플리토\n",
              "159998  KO-JA-2020-KPOP-160499  ...  플리토\n",
              "159999  KO-JA-2020-KPOP-160500  ...  플리토\n",
              "\n",
              "[160000 rows x 9 columns]"
            ]
          },
          "metadata": {},
          "execution_count": 5
        }
      ]
    },
    {
      "cell_type": "code",
      "metadata": {
        "id": "7X2JSIhp9qLx"
      },
      "source": [
        "with open(\"kor_corpus.txt\", \"w\") as f:\n",
        "    for line in list(df['한국어']):\n",
        "        f.write(line.strip())\n",
        "        f.write(\"\\n\")"
      ],
      "execution_count": 6,
      "outputs": []
    },
    {
      "cell_type": "code",
      "metadata": {
        "id": "5PzBQhmb0MdQ"
      },
      "source": [
        "with open(\"jp_corpus.txt\", \"w\") as f:\n",
        "    for line in list(df['일본어']):\n",
        "        f.write(line.strip())\n",
        "        f.write(\"\\n\")"
      ],
      "execution_count": 7,
      "outputs": []
    },
    {
      "cell_type": "code",
      "metadata": {
        "id": "TUK5Oy7r0Mf6"
      },
      "source": [
        "def train_sentencepiece(corpus, prefix, vocab_size):\n",
        "    \"\"\"\n",
        "    sentencepiece를 이용해 vocab 학습\n",
        "    :param corpus: 학습할 말뭉치\n",
        "    :param prefix: 저장할 vocab 이름\n",
        "    :param vocab_size: vocab 개수\n",
        "    \"\"\"\n",
        "    spm.SentencePieceTrainer.train(\n",
        "        f\"--input={corpus} --model_prefix={prefix} --vocab_size={vocab_size + 7}\" +  # 7은 특수문자 개수\n",
        "        \" --model_type=unigram\" +\n",
        "        # \" --model_type=bpe\" +\n",
        "        \" --max_sentence_length=999999\" +  # 문장 최대 길이\n",
        "        \" --pad_id=0 --pad_piece=[PAD]\" +  # pad token 및 id 지정\n",
        "        \" --unk_id=1 --unk_piece=[UNK]\" +  # unknown token 및 id 지정\n",
        "        \" --bos_id=2 --bos_piece=[BOS]\" +  # begin of sequence token 및 id 지정\n",
        "        \" --eos_id=3 --eos_piece=[EOS]\" +  # end of sequence token 및 id 지정\n",
        "        \" --user_defined_symbols=[SEP],[CLS],[MASK]\")  # 기타 추가 토큰 SEP: 4, CLS: 5, MASK: 6"
      ],
      "execution_count": 8,
      "outputs": []
    },
    {
      "cell_type": "code",
      "metadata": {
        "id": "fRqS2vT90Mi7"
      },
      "source": [
        "train_sentencepiece(f\"kor_corpus.txt\", f\"kor_corpus\", vocab_size=6000) # 단어 숫자는 아래의 토큰 분리를 보며 임의로 지정함. 되도록 토큰이 분리되도록 지정 "
      ],
      "execution_count": 9,
      "outputs": []
    },
    {
      "cell_type": "code",
      "metadata": {
        "id": "ieciAMvI-A7U"
      },
      "source": [
        "train_sentencepiece(f\"jp_corpus.txt\", f\"jp_corpus\", vocab_size=4000) # 단어 숫자는 아래의 토큰 분리를 보며 임의로 지정함. 되도록 토큰이 분리되도록 지정 "
      ],
      "execution_count": 10,
      "outputs": []
    },
    {
      "cell_type": "code",
      "metadata": {
        "colab": {
          "base_uri": "https://localhost:8080/"
        },
        "id": "yFY8laBg0Mlf",
        "outputId": "665ba1be-b995-4f49-ea28-db328f5fdd53"
      },
      "source": [
        "kor_vocab = spm.SentencePieceProcessor()\n",
        "kor_vocab.load(f\"kor_corpus.model\")"
      ],
      "execution_count": 11,
      "outputs": [
        {
          "output_type": "execute_result",
          "data": {
            "text/plain": [
              "True"
            ]
          },
          "metadata": {},
          "execution_count": 11
        }
      ]
    },
    {
      "cell_type": "code",
      "metadata": {
        "colab": {
          "base_uri": "https://localhost:8080/"
        },
        "id": "NkV6We6u-QQt",
        "outputId": "92f9862a-4f86-4278-9192-8f4e4ee009ec"
      },
      "source": [
        "jp_vocab = spm.SentencePieceProcessor()\n",
        "jp_vocab.load(f\"jp_corpus.model\")"
      ],
      "execution_count": 12,
      "outputs": [
        {
          "output_type": "execute_result",
          "data": {
            "text/plain": [
              "True"
            ]
          },
          "metadata": {},
          "execution_count": 12
        }
      ]
    },
    {
      "cell_type": "code",
      "metadata": {
        "colab": {
          "base_uri": "https://localhost:8080/"
        },
        "id": "5gPl6WzO9_Fe",
        "outputId": "df6abbd3-a5f5-4fef-f3ff-8a998dc16943"
      },
      "source": [
        "pieces = kor_vocab.encode_as_pieces(df['한국어'].loc[11])\n",
        "pieces"
      ],
      "execution_count": 14,
      "outputs": [
        {
          "output_type": "execute_result",
          "data": {
            "text/plain": [
              "['▁우',\n",
              " '아',\n",
              " '하고',\n",
              " '▁기',\n",
              " '품',\n",
              " '▁있어',\n",
              " '▁보이지',\n",
              " '만',\n",
              " ',',\n",
              " '▁목표',\n",
              " '가',\n",
              " '▁생기',\n",
              " '면',\n",
              " '▁',\n",
              " '쟁',\n",
              " '취',\n",
              " '하고',\n",
              " '야',\n",
              " '▁마',\n",
              " '는',\n",
              " '▁강한',\n",
              " '▁집',\n",
              " '념',\n",
              " '을',\n",
              " '▁가진',\n",
              " '▁여',\n",
              " '인',\n",
              " '이다',\n",
              " '.']"
            ]
          },
          "metadata": {},
          "execution_count": 14
        }
      ]
    },
    {
      "cell_type": "code",
      "metadata": {
        "colab": {
          "base_uri": "https://localhost:8080/"
        },
        "id": "-TKkryvi-pc5",
        "outputId": "b211b5e9-374a-4f84-82b6-28fd5589fc0b"
      },
      "source": [
        "pieces = jp_vocab.encode_as_pieces(df['일본어'].loc[11])\n",
        "pieces"
      ],
      "execution_count": 18,
      "outputs": [
        {
          "output_type": "execute_result",
          "data": {
            "text/plain": [
              "['▁',\n",
              " 'エ',\n",
              " 'レ',\n",
              " 'ガン',\n",
              " 'ト',\n",
              " 'で',\n",
              " '気',\n",
              " '品',\n",
              " 'がある',\n",
              " 'ように',\n",
              " '見える',\n",
              " 'が',\n",
              " '、',\n",
              " '目',\n",
              " '標',\n",
              " 'で',\n",
              " 'あ',\n",
              " 'れば',\n",
              " '勝',\n",
              " 'ち',\n",
              " '取',\n",
              " 'って',\n",
              " 'し',\n",
              " 'ま',\n",
              " 'う',\n",
              " '強い',\n",
              " '執',\n",
              " '念',\n",
              " 'を持った',\n",
              " '女性',\n",
              " 'だ',\n",
              " '。']"
            ]
          },
          "metadata": {},
          "execution_count": 18
        }
      ]
    },
    {
      "cell_type": "code",
      "metadata": {
        "colab": {
          "base_uri": "https://localhost:8080/"
        },
        "id": "NXXVxIFJ0MoE",
        "outputId": "82039e0b-44a1-4565-a7c2-1cac90d240db"
      },
      "source": [
        "# vocab 출력\n",
        "print(f\"len: {len(kor_vocab)}\")\n",
        "for id in range(20):\n",
        "    print(f\"{id:2d}: {kor_vocab.id_to_piece(id)}\")"
      ],
      "execution_count": 16,
      "outputs": [
        {
          "output_type": "stream",
          "name": "stdout",
          "text": [
            "len: 6007\n",
            " 0: [PAD]\n",
            " 1: [UNK]\n",
            " 2: [BOS]\n",
            " 3: [EOS]\n",
            " 4: [SEP]\n",
            " 5: [CLS]\n",
            " 6: [MASK]\n",
            " 7: ▁\n",
            " 8: .\n",
            " 9: 을\n",
            "10: 의\n",
            "11: 이\n",
            "12: 가\n",
            "13: ,\n",
            "14: '\n",
            "15: ▁'\n",
            "16: 는\n",
            "17: 를\n",
            "18: 에\n",
            "19: 은\n"
          ]
        }
      ]
    },
    {
      "cell_type": "code",
      "metadata": {
        "colab": {
          "base_uri": "https://localhost:8080/"
        },
        "id": "hDvRYXOg-eAz",
        "outputId": "76943c7a-3f27-4ebc-f94d-f4437a3a5a82"
      },
      "source": [
        "# vocab 출력\n",
        "print(f\"len: {len(jp_vocab)}\")\n",
        "for id in range(20):\n",
        "    print(f\"{id:2d}: {jp_vocab.id_to_piece(id)}\")"
      ],
      "execution_count": 17,
      "outputs": [
        {
          "output_type": "stream",
          "name": "stdout",
          "text": [
            "len: 4007\n",
            " 0: [PAD]\n",
            " 1: [UNK]\n",
            " 2: [BOS]\n",
            " 3: [EOS]\n",
            " 4: [SEP]\n",
            " 5: [CLS]\n",
            " 6: [MASK]\n",
            " 7: 、\n",
            " 8: の\n",
            " 9: が\n",
            "10: 。\n",
            "11: を\n",
            "12: ・\n",
            "13: ▁\n",
            "14: に\n",
            "15: 」\n",
            "16: 「\n",
            "17: は\n",
            "18: と\n",
            "19: で\n"
          ]
        }
      ]
    },
    {
      "cell_type": "code",
      "metadata": {
        "colab": {
          "base_uri": "https://localhost:8080/"
        },
        "id": "mKarUMkh13TV",
        "outputId": "cfe941a4-b5ab-4a04-d436-47cf47c52c88"
      },
      "source": [
        "pieces = vocab.encode_as_pieces(corpus_set[160010])\n",
        "pieces"
      ],
      "execution_count": 205,
      "outputs": [
        {
          "output_type": "execute_result",
          "data": {
            "text/plain": [
              "['▁',\n",
              " 'ティーザー',\n",
              " '映像',\n",
              " 'には',\n",
              " '結婚',\n",
              " 'は',\n",
              " 'いい',\n",
              " 'から',\n",
              " '、',\n",
              " '子供',\n",
              " 'だけ',\n",
              " '産',\n",
              " 'み',\n",
              " 'たい',\n",
              " '率',\n",
              " '直',\n",
              " 'な',\n",
              " '育',\n",
              " '児',\n",
              " '専門',\n",
              " '紙',\n",
              " 'の',\n",
              " '記',\n",
              " '者',\n",
              " '「',\n",
              " 'チャン',\n",
              " '・',\n",
              " 'ハ',\n",
              " 'リ',\n",
              " '」',\n",
              " 'だけ',\n",
              " 'の',\n",
              " '選択',\n",
              " 'が盛り込まれた',\n",
              " '。']"
            ]
          },
          "metadata": {},
          "execution_count": 205
        }
      ]
    },
    {
      "cell_type": "code",
      "metadata": {
        "colab": {
          "base_uri": "https://localhost:8080/"
        },
        "id": "gj7zHB083bIO",
        "outputId": "cdea6809-8c13-4909-bfc7-6eb650be00ef"
      },
      "source": [
        "vocab.encode_as_ids(corpus_set[160010])"
      ],
      "execution_count": 206,
      "outputs": [
        {
          "output_type": "execute_result",
          "data": {
            "text/plain": [
              "[7,\n",
              " 2780,\n",
              " 816,\n",
              " 202,\n",
              " 1285,\n",
              " 22,\n",
              " 2708,\n",
              " 101,\n",
              " 8,\n",
              " 1198,\n",
              " 494,\n",
              " 2047,\n",
              " 160,\n",
              " 1340,\n",
              " 2321,\n",
              " 1097,\n",
              " 48,\n",
              " 1907,\n",
              " 3208,\n",
              " 3262,\n",
              " 3162,\n",
              " 9,\n",
              " 1413,\n",
              " 294,\n",
              " 21,\n",
              " 264,\n",
              " 15,\n",
              " 192,\n",
              " 103,\n",
              " 19,\n",
              " 494,\n",
              " 9,\n",
              " 2371,\n",
              " 3372,\n",
              " 12]"
            ]
          },
          "metadata": {},
          "execution_count": 206
        }
      ]
    },
    {
      "cell_type": "code",
      "metadata": {
        "id": "v88s4vrQ13V-"
      },
      "source": [
        "def load_data(kor_vocab, jp_vocab, dataframe):\n",
        "    \"\"\"\n",
        "    학습에 필요한 데이터를 로드\n",
        "    :param vocab: vocab\n",
        "    :param dataframe: pandas dataframe\n",
        "    :return enc_inputs: encoder inputs\n",
        "    :return dec_inputs: decoder inputs\n",
        "    :return labels: labels\n",
        "    \"\"\"\n",
        "    total = len(dataframe)\n",
        "\n",
        "    # 데이터 미리 생성\n",
        "    enc_tokens = []\n",
        "    dec_tokens = []\n",
        "    labels = []\n",
        "\n",
        "    # 라인단위로 데이터 생성\n",
        "    for i, row in tqdm(dataframe.iterrows(), total=len(dataframe)):\n",
        "        # 한국어, 일본어 모두 string 인 경우만 처리\n",
        "        if type(row[\"한국어\"]) == str and type(row[\"일본어\"]) == str:\n",
        "            # 한국어를 id 형태로 변경\n",
        "            kor_id = kor_vocab.encode_as_ids(row[\"한국어\"])\n",
        "            # 일본어를 id 형태로 변경\n",
        "            jp_id = jp_vocab.encode_as_ids(row[\"일본어\"])\n",
        "\n",
        "            # enc_token: <한국어 tokens>, [PAD] tokens\n",
        "            enc_tokens.append(kor_id)\n",
        "            # dec_token: [BOS], <일본어 tokens>, [PAD] tokens\n",
        "            dec_tokens.append([jp_vocab.bos_id()] + jp_id)\n",
        "            # label: <일본어 tokens>, [EOS], [PAD] tokens\n",
        "            labels.append(jp_id + [jp_vocab.eos_id()])\n",
        "    \n",
        "    enc_len = max([len(tokens) for tokens in enc_tokens])\n",
        "    dec_len = max([len(tokens) for tokens in dec_tokens])\n",
        "    label_len = max([len(tokens) for tokens in labels])\n",
        "    print(enc_len,dec_len,label_len)\n",
        "    \n",
        "    # 데이터 미리 생성\n",
        "    np_enc_tokens = np.zeros((total, enc_len), np.int)\n",
        "    np_dec_tokens = np.zeros((total, dec_len), np.int)\n",
        "    np_labels = np.zeros((total, label_len), np.int)\n",
        "\n",
        "    for i, (enc_token, dec_token, label) in enumerate(zip(enc_tokens, dec_tokens, labels)):\n",
        "        np_enc_tokens[i,:len(enc_token)] = enc_token\n",
        "        np_dec_tokens[i,:len(dec_token)] = dec_token\n",
        "        np_labels[i,:len(label)] = label\n",
        "\n",
        "    return (np_enc_tokens, np_dec_tokens), np_labels"
      ],
      "execution_count": 20,
      "outputs": []
    },
    {
      "cell_type": "code",
      "metadata": {
        "id": "3mgl3Ehn5HI9"
      },
      "source": [
        ""
      ],
      "execution_count": null,
      "outputs": []
    },
    {
      "cell_type": "code",
      "metadata": {
        "colab": {
          "base_uri": "https://localhost:8080/",
          "height": 848,
          "referenced_widgets": [
            "43d4fe8c3c1344038260f1ba5c5c96b3",
            "bdf4f6b591b04ac9b2830a082d641022",
            "655252703626438fa874ef4382614102",
            "dd3e57e7ebcf43a0adb3af36beefd529",
            "0a773283b8ca4d5dbc609d832e769f23",
            "95a9433bdefd488e8363a6f6a869048c",
            "12e34b0344ba4a55a137c5eee1ae94fd",
            "294d157e93154781ae28edf9021b130c",
            "f75cf5e202b144e5a28ea416ea5fedab",
            "90dd474c1de44b7bb1a2435a27cf7540",
            "dcf16b9bbbb24465a7ec1f747ab73006"
          ]
        },
        "id": "rY9hf6N413Yf",
        "outputId": "f923fe20-4c30-415f-9e3f-c77809bb7076"
      },
      "source": [
        "train_inputs, train_labels = load_data(kor_vocab, jp_vocab, df)\n",
        "# 결과 확인, MAX_LEN 확인 \n",
        "train_inputs[0][-1], train_inputs[1][-1], train_labels[-1]"
      ],
      "execution_count": 23,
      "outputs": [
        {
          "output_type": "display_data",
          "data": {
            "application/vnd.jupyter.widget-view+json": {
              "model_id": "43d4fe8c3c1344038260f1ba5c5c96b3",
              "version_minor": 0,
              "version_major": 2
            },
            "text/plain": [
              "  0%|          | 0/160000 [00:00<?, ?it/s]"
            ]
          },
          "metadata": {}
        },
        {
          "output_type": "stream",
          "name": "stdout",
          "text": [
            "130 187 187\n"
          ]
        },
        {
          "output_type": "execute_result",
          "data": {
            "text/plain": [
              "(array([ 293,  196,  188,    7,   68,   58,   13, 1284,   20, 3623,   10,\n",
              "        2622,   17,  344,  330,   37,  742,   23,  548,   11, 4048,    8,\n",
              "           0,    0,    0,    0,    0,    0,    0,    0,    0,    0,    0,\n",
              "           0,    0,    0,    0,    0,    0,    0,    0,    0,    0,    0,\n",
              "           0,    0,    0,    0,    0,    0,    0,    0,    0,    0,    0,\n",
              "           0,    0,    0,    0,    0,    0,    0,    0,    0,    0,    0,\n",
              "           0,    0,    0,    0,    0,    0,    0,    0,    0,    0,    0,\n",
              "           0,    0,    0,    0,    0,    0,    0,    0,    0,    0,    0,\n",
              "           0,    0,    0,    0,    0,    0,    0,    0,    0,    0,    0,\n",
              "           0,    0,    0,    0,    0,    0,    0,    0,    0,    0,    0,\n",
              "           0,    0,    0,    0,    0,    0,    0,    0,    0,    0,    0,\n",
              "           0,    0,    0,    0,    0,    0,    0,    0,    0]),\n",
              " array([   2,  724,  831,  194, 1999,    7, 1583,   20,  996,    8,  531,\n",
              "          11, 2118,  278,   14,   22,    7,  678,   18,  561,    9,   19,\n",
              "         725,   10,    0,    0,    0,    0,    0,    0,    0,    0,    0,\n",
              "           0,    0,    0,    0,    0,    0,    0,    0,    0,    0,    0,\n",
              "           0,    0,    0,    0,    0,    0,    0,    0,    0,    0,    0,\n",
              "           0,    0,    0,    0,    0,    0,    0,    0,    0,    0,    0,\n",
              "           0,    0,    0,    0,    0,    0,    0,    0,    0,    0,    0,\n",
              "           0,    0,    0,    0,    0,    0,    0,    0,    0,    0,    0,\n",
              "           0,    0,    0,    0,    0,    0,    0,    0,    0,    0,    0,\n",
              "           0,    0,    0,    0,    0,    0,    0,    0,    0,    0,    0,\n",
              "           0,    0,    0,    0,    0,    0,    0,    0,    0,    0,    0,\n",
              "           0,    0,    0,    0,    0,    0,    0,    0,    0,    0,    0,\n",
              "           0,    0,    0,    0,    0,    0,    0,    0,    0,    0,    0,\n",
              "           0,    0,    0,    0,    0,    0,    0,    0,    0,    0,    0,\n",
              "           0,    0,    0,    0,    0,    0,    0,    0,    0,    0,    0,\n",
              "           0,    0,    0,    0,    0,    0,    0,    0,    0,    0,    0,\n",
              "           0,    0,    0,    0,    0,    0,    0,    0,    0,    0,    0]),\n",
              " array([ 724,  831,  194, 1999,    7, 1583,   20,  996,    8,  531,   11,\n",
              "        2118,  278,   14,   22,    7,  678,   18,  561,    9,   19,  725,\n",
              "          10,    3,    0,    0,    0,    0,    0,    0,    0,    0,    0,\n",
              "           0,    0,    0,    0,    0,    0,    0,    0,    0,    0,    0,\n",
              "           0,    0,    0,    0,    0,    0,    0,    0,    0,    0,    0,\n",
              "           0,    0,    0,    0,    0,    0,    0,    0,    0,    0,    0,\n",
              "           0,    0,    0,    0,    0,    0,    0,    0,    0,    0,    0,\n",
              "           0,    0,    0,    0,    0,    0,    0,    0,    0,    0,    0,\n",
              "           0,    0,    0,    0,    0,    0,    0,    0,    0,    0,    0,\n",
              "           0,    0,    0,    0,    0,    0,    0,    0,    0,    0,    0,\n",
              "           0,    0,    0,    0,    0,    0,    0,    0,    0,    0,    0,\n",
              "           0,    0,    0,    0,    0,    0,    0,    0,    0,    0,    0,\n",
              "           0,    0,    0,    0,    0,    0,    0,    0,    0,    0,    0,\n",
              "           0,    0,    0,    0,    0,    0,    0,    0,    0,    0,    0,\n",
              "           0,    0,    0,    0,    0,    0,    0,    0,    0,    0,    0,\n",
              "           0,    0,    0,    0,    0,    0,    0,    0,    0,    0,    0,\n",
              "           0,    0,    0,    0,    0,    0,    0,    0,    0,    0,    0]))"
            ]
          },
          "metadata": {},
          "execution_count": 23
        }
      ]
    },
    {
      "cell_type": "code",
      "metadata": {
        "id": "tfx3xMGu13a_"
      },
      "source": [
        "# Transfomer\n",
        "\n",
        "def get_pad_mask(tokens, i_pad=0):\n",
        "    \"\"\"\n",
        "    pad mask 계산하는 함수\n",
        "    :param tokens: tokens (bs, n_seq)\n",
        "    :param i_pad: id of pad\n",
        "    :return mask: pad mask (pad: 1, other: 0)\n",
        "    \"\"\"\n",
        "    mask = tf.cast(tf.math.equal(tokens, i_pad), tf.float32)\n",
        "    mask = tf.expand_dims(mask, axis=1)\n",
        "    return mask\n",
        "\n",
        "\n",
        "def get_ahead_mask(tokens, i_pad=0):\n",
        "    \"\"\"\n",
        "    ahead mask 계산하는 함수\n",
        "    :param tokens: tokens (bs, n_seq)\n",
        "    :param i_pad: id of pad\n",
        "    :return mask: ahead and pad mask (ahead or pad: 1, other: 0)\n",
        "    \"\"\"\n",
        "    n_seq = tf.shape(tokens)[1]\n",
        "    ahead_mask = 1 - tf.linalg.band_part(tf.ones((n_seq, n_seq)), -1, 0)\n",
        "    ahead_mask = tf.expand_dims(ahead_mask, axis=0)\n",
        "    pad_mask = get_pad_mask(tokens, i_pad)\n",
        "    mask = tf.maximum(ahead_mask, pad_mask)\n",
        "    return mask\n",
        "\n",
        "\n",
        "def kernel_initializer(stddev=0.02):\n",
        "    \"\"\"\n",
        "    parameter initializer 생성\n",
        "    :param stddev: 생성할 랜덤 변수의 표준편차\n",
        "    \"\"\"\n",
        "    return tf.keras.initializers.TruncatedNormal(stddev=stddev)\n",
        "\n",
        "\n",
        "class Config(dict):\n",
        "    \"\"\"\n",
        "    json을 config 형태로 사용하기 위한 Class\n",
        "    :param dict: config dictionary\n",
        "    \"\"\"\n",
        "    __getattr__ = dict.__getitem__\n",
        "    __setattr__ = dict.__setitem__\n",
        "\n",
        "    @classmethod\n",
        "    def load(cls, file):\n",
        "        \"\"\"\n",
        "        file에서 Config를 생성 함\n",
        "        :param file: filename\n",
        "        \"\"\"\n",
        "        with open(file, 'r') as f:\n",
        "            config = json.loads(f.read())\n",
        "            return Config(config)\n",
        "\n",
        "\n",
        "class SharedEmbedding(tf.keras.layers.Layer):\n",
        "    \"\"\"\n",
        "    Weighed Shaed Embedding Class\n",
        "    \"\"\"\n",
        "    def __init__(self, config, name=\"weight_shared_embedding\"):\n",
        "        \"\"\"\n",
        "        생성자\n",
        "        :param config: Config 객체\n",
        "        :param name: layer name\n",
        "        \"\"\"\n",
        "        super().__init__(name=name)\n",
        "\n",
        "        self.n_vocab = config.n_vocab\n",
        "        self.d_model = config.d_model\n",
        "    \n",
        "    def build(self, input_shape):\n",
        "        \"\"\"\n",
        "        shared weight 생성\n",
        "        :param input_shape: Tensor Shape (not used)\n",
        "        \"\"\"\n",
        "        with tf.name_scope(\"shared_embedding_weight\"):\n",
        "            self.shared_weights = self.add_weight(\n",
        "                \"weights\",\n",
        "                shape=[self.n_vocab, self.d_model],\n",
        "                initializer=kernel_initializer(stddev=self.d_model ** -0.5)\n",
        "            )\n",
        "\n",
        "    def call(self, inputs, mode=\"embedding\"):\n",
        "        \"\"\"\n",
        "        layer 실행\n",
        "        :param inputs: 입력\n",
        "        :param mode: 실행 모드\n",
        "        :return: embedding or linear 실행 결과\n",
        "        \"\"\"\n",
        "        # mode가 embedding일 경우 embedding lookup 실행\n",
        "        if mode == \"embedding\":\n",
        "            return self._embedding(inputs)\n",
        "        # mode가 linear일 경우 linear 실행\n",
        "        elif mode == \"linear\":\n",
        "            return self._linear(inputs)\n",
        "        # mode가 기타일 경우 오류 발생\n",
        "        else:\n",
        "            raise ValueError(f\"mode {mode} is not valid.\")\n",
        "    \n",
        "    def _embedding(self, inputs):\n",
        "        \"\"\"\n",
        "        embedding lookup\n",
        "        :param inputs: 입력\n",
        "        \"\"\"\n",
        "        embed = tf.gather(self.shared_weights, tf.cast(inputs, tf.int32))\n",
        "        embed *= self.d_model ** 0.5\n",
        "        return embed\n",
        "\n",
        "    def _linear(self, inputs):  # (bs, n_seq, d_model)\n",
        "        \"\"\"\n",
        "        linear 실행\n",
        "        :param inputs: 입력\n",
        "        \"\"\"\n",
        "        n_batch = tf.shape(inputs)[0]\n",
        "        n_seq = tf.shape(inputs)[1]\n",
        "        inputs = tf.reshape(inputs, [-1, self.d_model])  # (bs * n_seq, d_model)\n",
        "        outputs = tf.matmul(inputs, self.shared_weights, transpose_b=True)\n",
        "        outputs = tf.reshape(outputs, [n_batch, n_seq, self.n_vocab])  # (bs, n_seq, n_vocab)\n",
        "        return outputs\n",
        "\n",
        "\n",
        "class PositionalEmbedding(tf.keras.layers.Layer):\n",
        "    \"\"\"\n",
        "    Positional Embedding Class\n",
        "    \"\"\"\n",
        "    def __init__(self, config, name=\"position_embedding\"):\n",
        "        \"\"\"\n",
        "        생성자\n",
        "        :param config: Config 객체\n",
        "        :param name: layer name\n",
        "        \"\"\"\n",
        "        super().__init__(name=name)\n",
        "        \n",
        "        pos_encoding = PositionalEmbedding.get_sinusoid_encoding(config.n_seq, config.d_model)\n",
        "        self.embedding = tf.keras.layers.Embedding(config.n_seq, config.d_model, trainable=False, weights=[pos_encoding])\n",
        "\n",
        "    def call(self, inputs):\n",
        "        \"\"\"\n",
        "        layer 실행\n",
        "        :param inputs: 입력\n",
        "        :return embed: positional embedding lookup 결과\n",
        "        \"\"\"\n",
        "        position = tf.cast(tf.math.cumsum(tf.ones_like(inputs), axis=1, exclusive=True), tf.int32)\n",
        "        embed = self.embedding(position)\n",
        "        return embed\n",
        "\n",
        "    @staticmethod\n",
        "    def get_sinusoid_encoding(n_seq, d_model):\n",
        "        \"\"\"\n",
        "        sinusoid encoding 생성\n",
        "        :param n_seq: sequence number\n",
        "        :param n_seq: model hidden dimension\n",
        "        :return: positional encoding table\n",
        "        \"\"\"\n",
        "        angles = [np.power(10000, 2 * (i_ang // 2) / d_model) for i_ang in range(d_model)]\n",
        "        pos_encoding = np.array([[pos / angle for angle in angles] for pos in range(n_seq)])\n",
        "        pos_encoding[:, 0::2] = np.sin(pos_encoding[:, 0::2])\n",
        "        pos_encoding[:, 1::2] = np.cos(pos_encoding[:, 1::2])\n",
        "        return tf.cast(pos_encoding, tf.float32)\n",
        "\n",
        "\n",
        "class ScaleDotProductAttention(tf.keras.layers.Layer):\n",
        "    \"\"\"\n",
        "    Scale Dot Product Attention Class\n",
        "    \"\"\"\n",
        "    def __init__(self, name=\"scale_dot_product_attention\"):\n",
        "        \"\"\"\n",
        "        생성자\n",
        "        :param name: layer name\n",
        "        \"\"\"\n",
        "        super().__init__(name=name)\n",
        "\n",
        "    def call(self, Q, K, V, attn_mask):\n",
        "        \"\"\"\n",
        "        layer 실행\n",
        "        :param Q: Q value\n",
        "        :param K: K value\n",
        "        :param V: V value\n",
        "        :param attn_mask: 실행 모드\n",
        "        :return attn_out: attention 실행 결과\n",
        "        \"\"\"\n",
        "        attn_score = tf.matmul(Q, K, transpose_b=True)\n",
        "        scale = tf.math.sqrt(tf.cast(tf.shape(K)[-1], tf.float32))\n",
        "        attn_scale = tf.math.divide(attn_score, scale)\n",
        "        attn_scale -= 1.e9 * attn_mask\n",
        "        attn_prob = tf.nn.softmax(attn_scale, axis=-1)\n",
        "        attn_out = tf.matmul(attn_prob, V)\n",
        "        return attn_out\n",
        "\n",
        "\n",
        "class MultiHeadAttention(tf.keras.layers.Layer):\n",
        "    \"\"\"\n",
        "    Multi Head Attention Class\n",
        "    \"\"\"\n",
        "    def __init__(self, config, name=\"multi_head_attention\"):\n",
        "        \"\"\"\n",
        "        생성자\n",
        "        :param config: Config 객체\n",
        "        :param name: layer name\n",
        "        \"\"\"\n",
        "        super().__init__(name=name)\n",
        "\n",
        "        self.d_model = config.d_model\n",
        "        self.n_head = config.n_head\n",
        "        self.d_head = config.d_head\n",
        "\n",
        "        # Q, K, V input dense layer\n",
        "        self.W_Q = tf.keras.layers.Dense(config.n_head * config.d_head)\n",
        "        self.W_K = tf.keras.layers.Dense(config.n_head * config.d_head)\n",
        "        self.W_V = tf.keras.layers.Dense(config.n_head * config.d_head)\n",
        "        # Scale Dot Product Attention class\n",
        "        self.attention = ScaleDotProductAttention(name=\"self_attention\")\n",
        "        # output dense layer\n",
        "        self.W_O = tf.keras.layers.Dense(config.d_model)\n",
        "\n",
        "    def call(self, Q, K, V, attn_mask):\n",
        "        \"\"\"\n",
        "        layer 실행\n",
        "        :param Q: Q value\n",
        "        :param K: K value\n",
        "        :param V: V value\n",
        "        :param attn_mask: 실행 모드\n",
        "        :return attn_out: attention 실행 결과\n",
        "        \"\"\"\n",
        "        # reshape Q, K, V, attn_mask\n",
        "        batch_size = tf.shape(Q)[0]\n",
        "        Q_m = tf.transpose(tf.reshape(self.W_Q(Q), [batch_size, -1, self.n_head, self.d_head]), [0, 2, 1, 3])  # (bs, n_head, Q_len, d_head)\n",
        "        K_m = tf.transpose(tf.reshape(self.W_K(K), [batch_size, -1, self.n_head, self.d_head]), [0, 2, 1, 3])  # (bs, n_head, K_len, d_head)\n",
        "        V_m = tf.transpose(tf.reshape(self.W_V(V), [batch_size, -1, self.n_head, self.d_head]), [0, 2, 1, 3])  # (bs, n_head, K_len, d_head)\n",
        "        attn_mask_m = tf.expand_dims(attn_mask, axis=1)\n",
        "        # Scale Dot Product Attention with multi head Q, K, V, attn_mask\n",
        "        attn_out = self.attention(Q_m, K_m, V_m, attn_mask_m)  # (bs, n_head, Q_len, d_head)\n",
        "        # transpose and liner\n",
        "        attn_out_m = tf.transpose(attn_out, perm=[0, 2, 1, 3])  # (bs, Q_len, n_head, d_head)\n",
        "        attn_out = tf.reshape(attn_out_m, [batch_size, -1, config.n_head * config.d_head])  # (bs, Q_len, d_model)\n",
        "        attn_out = self.W_O(attn_out) # (bs, Q_len, d_model)\n",
        "\n",
        "        return attn_out\n",
        "\n",
        "\n",
        "class PositionWiseFeedForward(tf.keras.layers.Layer):\n",
        "    \"\"\"\n",
        "    Position Wise Feed Forward Class\n",
        "    \"\"\"\n",
        "    def __init__(self, config, name=\"feed_forward\"):\n",
        "        \"\"\"\n",
        "        생성자\n",
        "        :param config: Config 객체\n",
        "        :param name: layer name\n",
        "        \"\"\"\n",
        "        super().__init__(name=name)\n",
        "\n",
        "        self.W_1 = tf.keras.layers.Dense(config.d_ff, activation=tf.nn.relu)\n",
        "        self.W_2 = tf.keras.layers.Dense(config.d_model)\n",
        "\n",
        "    def call(self, inputs):\n",
        "        \"\"\"\n",
        "        layer 실행\n",
        "        :param inputs: inputs\n",
        "        :return ff_val: feed forward 실행 결과\n",
        "        \"\"\"\n",
        "        ff_val = self.W_2(self.W_1(inputs))\n",
        "        return ff_val\n",
        "\n",
        "\n",
        "class EncoderLayer(tf.keras.layers.Layer):\n",
        "    \"\"\"\n",
        "    Encoder Layer Class\n",
        "    \"\"\"\n",
        "    def __init__(self, config, name=\"encoder_layer\"):\n",
        "        \"\"\"\n",
        "        생성자\n",
        "        :param config: Config 객체\n",
        "        :param name: layer name\n",
        "        \"\"\"\n",
        "        super().__init__(name=name)\n",
        "\n",
        "        self.self_attention = MultiHeadAttention(config)\n",
        "        self.norm1 = tf.keras.layers.LayerNormalization(epsilon=config.layernorm_epsilon)\n",
        "\n",
        "        self.ffn = PositionWiseFeedForward(config)\n",
        "        self.norm2 = tf.keras.layers.LayerNormalization(epsilon=config.layernorm_epsilon)\n",
        "\n",
        "        self.dropout = tf.keras.layers.Dropout(config.dropout)\n",
        " \n",
        "    def call(self, enc_embed, self_mask):\n",
        "        \"\"\"\n",
        "        layer 실행\n",
        "        :param enc_embed: enc_embed 또는 이전 EncoderLayer의 출력\n",
        "        :param self_mask: enc_tokens의 pad mask\n",
        "        :return enc_out: EncoderLayer 실행 결과\n",
        "        \"\"\"\n",
        "        self_attn_val = self.self_attention(enc_embed, enc_embed, enc_embed, self_mask)\n",
        "        norm1_val = self.norm1(enc_embed + self.dropout(self_attn_val))\n",
        "\n",
        "        ffn_val = self.ffn(norm1_val)\n",
        "        enc_out = self.norm2(norm1_val + self.dropout(ffn_val))\n",
        "\n",
        "        return enc_out\n",
        "\n",
        "\n",
        "class DecoderLayer(tf.keras.layers.Layer):\n",
        "    \"\"\"\n",
        "    Decoder Layer Class\n",
        "    \"\"\"\n",
        "    def __init__(self, config, name=\"decoder_layer\"):\n",
        "        \"\"\"\n",
        "        생성자\n",
        "        :param config: Config 객체\n",
        "        :param name: layer name\n",
        "        \"\"\"\n",
        "        super().__init__(name=name)\n",
        "\n",
        "        self.self_attention = MultiHeadAttention(config)\n",
        "        self.norm1 = tf.keras.layers.LayerNormalization(epsilon=config.layernorm_epsilon)\n",
        "\n",
        "        self.ende_attn = MultiHeadAttention(config)\n",
        "        self.norm2 = tf.keras.layers.LayerNormalization(epsilon=config.layernorm_epsilon)\n",
        "\n",
        "        self.ffn = PositionWiseFeedForward(config)\n",
        "        self.norm3 = tf.keras.layers.LayerNormalization(epsilon=config.layernorm_epsilon)\n",
        "\n",
        "        self.dropout = tf.keras.layers.Dropout(config.dropout)\n",
        "\n",
        "    def call(self, dec_embed, enc_out, self_mask, ende_mask):\n",
        "        \"\"\"\n",
        "        layer 실행\n",
        "        :param dec_embed: dec_embed 또는 이전 DecoderLayer의 출력\n",
        "        :param enc_out: 마지막 EncoderLayer의 출력\n",
        "        :param self_mask: dec_tokens의 ahead mask\n",
        "        :param ende_mask: enc_tokens의 pad mask\n",
        "        :return dec_out: DecoderLayer 실행 결과\n",
        "        \"\"\"\n",
        "        self_attn_val = self.self_attention(dec_embed, dec_embed, dec_embed, self_mask)\n",
        "        norm1_val = self.norm1(dec_embed + self.dropout(self_attn_val))\n",
        "\n",
        "        ende_attn_val = self.ende_attn(norm1_val, enc_out, enc_out, ende_mask)\n",
        "        norm2_val = self.norm2(norm1_val + self.dropout(ende_attn_val))\n",
        "\n",
        "        ffn_val = self.ffn(norm2_val)\n",
        "        dec_out = self.norm3(norm2_val + self.dropout(ffn_val))\n",
        "\n",
        "        return dec_out\n",
        "\n",
        "\n",
        "class Transformer(tf.keras.layers.Layer):\n",
        "    \"\"\"\n",
        "    Transformer Class\n",
        "    \"\"\"\n",
        "    def __init__(self, config, name=\"transformer\"):\n",
        "        \"\"\"\n",
        "        생성자\n",
        "        :param config: Config 객체\n",
        "        :param name: layer name\n",
        "        \"\"\"\n",
        "        super().__init__(name=name)\n",
        "\n",
        "        self.i_pad = config.i_pad\n",
        "        self.embedding = SharedEmbedding(config)\n",
        "        self.position = PositionalEmbedding(config)\n",
        "        \n",
        "        self.encoder_layers = [EncoderLayer(config, name=f\"encoder_layer_{i}\") for i in range(config.n_layer)]\n",
        "        self.decoder_layers = [DecoderLayer(config, name=f\"decoder_layer_{i}\") for i in range(config.n_layer)]\n",
        "\n",
        "        self.dropout = tf.keras.layers.Dropout(config.dropout)\n",
        "\n",
        "    def call(self, inputs):\n",
        "        \"\"\"\n",
        "        layer 실행\n",
        "        :param inputs: (enc_tokens, dec_tokens) tuple\n",
        "        :return logits: dec_tokens에 대한 다음 토큰 예측 결과 logits\n",
        "        \"\"\"\n",
        "        enc_tokens, dec_tokens = inputs\n",
        "\n",
        "        enc_self_mask = tf.keras.layers.Lambda(get_pad_mask, output_shape=(1, None), name='enc_self_mask')(enc_tokens, self.i_pad)\n",
        "        dec_self_mask = tf.keras.layers.Lambda(get_ahead_mask, output_shape=(None, None), name='dec_self_mask')(dec_tokens, self.i_pad)\n",
        "        ende_attn_mask = tf.keras.layers.Lambda(get_pad_mask, output_shape=(1, None), name='ende_attn_mask')(enc_tokens, self.i_pad)\n",
        "\n",
        "        enc_embed = self.get_embedding(enc_tokens)\n",
        "        dec_embed = self.get_embedding(dec_tokens)\n",
        "\n",
        "        enc_out = self.dropout(enc_embed)\n",
        "        for encoder_layer in self.encoder_layers:\n",
        "            enc_out = encoder_layer(enc_out, enc_self_mask)\n",
        "        \n",
        "        dec_out = self.dropout(dec_embed)\n",
        "        for decoder_layer in self.decoder_layers:\n",
        "            dec_out = decoder_layer(dec_out, enc_out, dec_self_mask, ende_attn_mask)\n",
        "\n",
        "        logits = self.embedding(dec_out, mode=\"linear\")\n",
        "        return logits\n",
        "    \n",
        "    def get_embedding(self, tokens):\n",
        "        \"\"\"\n",
        "        token embedding, position embedding lookup\n",
        "        :param tokens: 입력 tokens\n",
        "        :return embed: embedding 결과\n",
        "        \"\"\"\n",
        "        embed = self.embedding(tokens) + self.position(tokens)\n",
        "        return embed"
      ],
      "execution_count": 24,
      "outputs": []
    },
    {
      "cell_type": "code",
      "metadata": {
        "id": "UUJudBpn7sxY"
      },
      "source": [
        "# model build\n",
        "def build_model(config):\n",
        "    \"\"\"\n",
        "    model build\n",
        "    :param config: Configuration\n",
        "    :return model\n",
        "    \"\"\"\n",
        "    enc_tokens = tf.keras.layers.Input((None,), name=\"enc_tokens\")\n",
        "    dec_tokens = tf.keras.layers.Input((None,), name=\"dec_tokens\")\n",
        "\n",
        "    logits = Transformer(config)((enc_tokens, dec_tokens))\n",
        "    outputs = tf.keras.layers.Softmax(name=\"lm\")(logits)\n",
        "\n",
        "    model = tf.keras.Model(inputs=(enc_tokens, dec_tokens), outputs=outputs)\n",
        "    return model"
      ],
      "execution_count": 25,
      "outputs": []
    },
    {
      "cell_type": "code",
      "metadata": {
        "colab": {
          "base_uri": "https://localhost:8080/"
        },
        "id": "tYYzSpD97uDg",
        "outputId": "fd99d9a2-1901-4c41-e0db-f39e724fe38f"
      },
      "source": [
        "config = Config({\"d_model\": 256, \"n_head\": 2, \"d_head\": 64, \"dropout\": 0.1, \"d_ff\": 512, \"layernorm_epsilon\": 0.001, \"n_layer\": 1, \"n_seq\": 190, \"n_vocab\": 0, \"i_pad\": 0})\n",
        "config.n_vocab = len(kor_vocab)\n",
        "config.i_pad = kor_vocab.pad_id()\n",
        "config"
      ],
      "execution_count": 26,
      "outputs": [
        {
          "output_type": "execute_result",
          "data": {
            "text/plain": [
              "{'d_ff': 512,\n",
              " 'd_head': 64,\n",
              " 'd_model': 256,\n",
              " 'dropout': 0.1,\n",
              " 'i_pad': 0,\n",
              " 'layernorm_epsilon': 0.001,\n",
              " 'n_head': 2,\n",
              " 'n_layer': 1,\n",
              " 'n_seq': 190,\n",
              " 'n_vocab': 6007}"
            ]
          },
          "metadata": {},
          "execution_count": 26
        }
      ]
    },
    {
      "cell_type": "code",
      "metadata": {
        "colab": {
          "base_uri": "https://localhost:8080/",
          "height": 312
        },
        "id": "jwA4jK9k7w3y",
        "outputId": "e26197ec-748c-4dd4-ed4d-e99afd1b1e22"
      },
      "source": [
        "model = build_model(config)\n",
        "tf.keras.utils.plot_model(model, 'model.png', show_shapes=True)"
      ],
      "execution_count": 27,
      "outputs": [
        {
          "output_type": "execute_result",
          "data": {
            "image/png": "[encoded data removed]",
            "text/plain": [
              "<IPython.core.display.Image object>"
            ]
          },
          "metadata": {},
          "execution_count": 27
        }
      ]
    },
    {
      "cell_type": "code",
      "metadata": {
        "colab": {
          "base_uri": "https://localhost:8080/"
        },
        "id": "vHU3GsBTRypf",
        "outputId": "69c90c23-d12e-4e57-cc87-250adc88ce68"
      },
      "source": [
        "model.summary()"
      ],
      "execution_count": 28,
      "outputs": [
        {
          "output_type": "stream",
          "name": "stdout",
          "text": [
            "Model: \"model\"\n",
            "__________________________________________________________________________________________________\n",
            "Layer (type)                    Output Shape         Param #     Connected to                     \n",
            "==================================================================================================\n",
            "enc_tokens (InputLayer)         [(None, None)]       0                                            \n",
            "__________________________________________________________________________________________________\n",
            "dec_tokens (InputLayer)         [(None, None)]       0                                            \n",
            "__________________________________________________________________________________________________\n",
            "transformer (Transformer)       (None, None, 6007)   2509952     enc_tokens[0][0]                 \n",
            "                                                                 dec_tokens[0][0]                 \n",
            "__________________________________________________________________________________________________\n",
            "lm (Softmax)                    (None, None, 6007)   0           transformer[0][0]                \n",
            "==================================================================================================\n",
            "Total params: 2,509,952\n",
            "Trainable params: 2,461,312\n",
            "Non-trainable params: 48,640\n",
            "__________________________________________________________________________________________________\n"
          ]
        }
      ]
    },
    {
      "cell_type": "code",
      "metadata": {
        "id": "hGN0NW0n7zAL"
      },
      "source": [
        "def lm_loss(y_true, y_pred):\n",
        "    \"\"\"\n",
        "    loss 계산 함수\n",
        "    :param y_true: 정답 (bs, n_seq)\n",
        "    :param y_pred: 예측 값 (bs, n_seq, n_vocab)\n",
        "    \"\"\"\n",
        "    # loss 계산\n",
        "    loss = tf.keras.losses.SparseCategoricalCrossentropy(reduction=tf.keras.losses.Reduction.NONE)(y_true, y_pred)\n",
        "    # pad(0) 인 부분 mask\n",
        "    mask = tf.cast(tf.math.not_equal(y_true, 0), dtype=loss.dtype)\n",
        "    loss *= mask\n",
        "    return loss"
      ],
      "execution_count": 29,
      "outputs": []
    },
    {
      "cell_type": "code",
      "metadata": {
        "id": "D0mWEYe671Ib"
      },
      "source": [
        "def lm_acc(y_true, y_pred):\n",
        "    \"\"\"\n",
        "    acc 계산 함수\n",
        "    :param y_true: 정답 (bs, n_seq)\n",
        "    :param y_pred: 예측 값 (bs, n_seq, n_vocab)\n",
        "    \"\"\"\n",
        "    # 정답 여부 확인\n",
        "    y_pred_class = tf.cast(K.argmax(y_pred, axis=-1), tf.float32)\n",
        "    matches = tf.cast(K.equal(y_true, y_pred_class), tf.float32)\n",
        "    # pad(0) 인 부분 mask\n",
        "    mask = tf.cast(tf.math.not_equal(y_true, 0), dtype=matches.dtype)\n",
        "    matches *= mask\n",
        "    # 정확도 계산\n",
        "    accuracy = K.sum(matches) / K.maximum(K.sum(mask), 1)\n",
        "    return accuracy"
      ],
      "execution_count": 30,
      "outputs": []
    },
    {
      "cell_type": "code",
      "metadata": {
        "id": "rd7YDZpw75ld"
      },
      "source": [
        "class InverseSquareRootSchedule(tf.keras.optimizers.schedules.LearningRateSchedule):\n",
        "    \"\"\"\n",
        "    TransformerSchedule class\n",
        "    \"\"\"\n",
        "    def __init__(self, d_model, warmup_steps=4000):\n",
        "        \"\"\"\n",
        "        생성자\n",
        "        :param d_model: 모델 hidden\n",
        "        :param warmup_steps: warmup steps\n",
        "        \"\"\"\n",
        "        super().__init__()\n",
        "\n",
        "        self.d_model = tf.cast(d_model, tf.float32)\n",
        "        self.warmup_steps = tf.cast(warmup_steps, tf.float32)\n",
        "\n",
        "    def __call__(self, step_num):\n",
        "        \"\"\"\n",
        "        learning rate 계산\n",
        "        :param step_num: 현재 step number\n",
        "        :retrun: 계산된 learning rate\n",
        "        \"\"\"\n",
        "        arg1 = tf.math.rsqrt(step_num)\n",
        "        arg2 = step_num * (self.warmup_steps**-1.5)\n",
        "        arg = tf.math.minimum(arg1, arg2)\n",
        "        lr = tf.math.rsqrt(self.d_model) * arg\n",
        "        return lr"
      ],
      "execution_count": 32,
      "outputs": []
    },
    {
      "cell_type": "code",
      "metadata": {
        "colab": {
          "base_uri": "https://localhost:8080/",
          "height": 279
        },
        "id": "1226hsBF77Me",
        "outputId": "ec53ed00-fb17-449b-a34c-e461a0af5b9b"
      },
      "source": [
        "# compute lr\n",
        "test_schedule = InverseSquareRootSchedule(config.d_model, warmup_steps=100)\n",
        "lrs = []\n",
        "for step in range(1000):\n",
        "    lrs.append(test_schedule(float(step)).numpy())\n",
        "\n",
        "# draw\n",
        "plt.plot(lrs, 'r-', label='learning_rate')\n",
        "plt.xlabel('Step')\n",
        "plt.show()"
      ],
      "execution_count": 33,
      "outputs": [
        {
          "output_type": "display_data",
          "data": {
            "image/png": "[encoded data removed]",
            "text/plain": [
              "<Figure size 432x288 with 1 Axes>"
            ]
          },
          "metadata": {
            "needs_background": "light"
          }
        }
      ]
    },
    {
      "cell_type": "code",
      "metadata": {
        "colab": {
          "base_uri": "https://localhost:8080/",
          "height": 279
        },
        "id": "aMEA3C46AMW7",
        "outputId": "0f30f08f-a251-436a-b0b3-458a175746c8"
      },
      "source": [
        "# compute lr\n",
        "test_schedule = InverseSquareRootSchedule(config.d_model, warmup_steps=10)\n",
        "lrs = []\n",
        "for step in range(1000):\n",
        "    lrs.append(test_schedule(float(step)).numpy())\n",
        "\n",
        "# draw\n",
        "plt.plot(lrs, 'r-', label='learning_rate')\n",
        "plt.xlabel('Step')\n",
        "plt.show()"
      ],
      "execution_count": 34,
      "outputs": [
        {
          "output_type": "display_data",
          "data": {
            "image/png": "[encoded data removed]",
            "text/plain": [
              "<Figure size 432x288 with 1 Axes>"
            ]
          },
          "metadata": {
            "needs_background": "light"
          }
        }
      ]
    },
    {
      "cell_type": "code",
      "metadata": {
        "id": "clQgmc5f78n3"
      },
      "source": [
        "# optimizer의 learning_rate를 InverseSquareRootSchedule로 지정\n",
        "# learning_rate = InverseSquareRootSchedule(config.d_model, warmup_steps=10) # 500이었음\n",
        "# optimizer = tf.keras.optimizers.Adam(learning_rate, beta_1=0.9, beta_2=0.98, epsilon=1e-9)\n",
        "\n",
        "#우선은 테스트를 위해 고정 값으로 성능 확인\n",
        "optimizer = tf.keras.optimizers.Adam()\n",
        "\n",
        "model.compile(loss=lm_loss, optimizer=optimizer, metrics=[lm_acc])"
      ],
      "execution_count": 35,
      "outputs": []
    },
    {
      "cell_type": "code",
      "metadata": {
        "colab": {
          "base_uri": "https://localhost:8080/"
        },
        "id": "uqr3KN3V7-GX",
        "outputId": "32e29f4d-31e7-403b-c518-86f5433ca651"
      },
      "source": [
        "#모델 학습\n",
        "\n",
        "# save weights callback\n",
        "save_weights = tf.keras.callbacks.ModelCheckpoint(\"ko2jp_trans.hdf5\", monitor=\"lm_acc\", verbose=1, save_best_only=True, mode=\"max\", save_freq=\"epoch\", save_weights_only=True)\n",
        "# train\n",
        "history = model.fit(train_inputs, train_labels, epochs=40, batch_size=512, callbacks=[save_weights])"
      ],
      "execution_count": 36,
      "outputs": [
        {
          "output_type": "stream",
          "name": "stdout",
          "text": [
            "Epoch 1/40\n",
            "313/313 [==============================] - 152s 463ms/step - loss: 1.1649 - lm_acc: 0.2071\n",
            "\n",
            "Epoch 00001: lm_acc improved from -inf to 0.20715, saving model to ko2jp_trans.hdf5\n",
            "Epoch 2/40\n",
            "313/313 [==============================] - 145s 463ms/step - loss: 0.7268 - lm_acc: 0.4332\n",
            "\n",
            "Epoch 00002: lm_acc improved from 0.20715 to 0.43319, saving model to ko2jp_trans.hdf5\n",
            "Epoch 3/40\n",
            "313/313 [==============================] - 145s 463ms/step - loss: 0.4704 - lm_acc: 0.5996\n",
            "\n",
            "Epoch 00003: lm_acc improved from 0.43319 to 0.59956, saving model to ko2jp_trans.hdf5\n",
            "Epoch 4/40\n",
            "313/313 [==============================] - 145s 463ms/step - loss: 0.3863 - lm_acc: 0.6563\n",
            "\n",
            "Epoch 00004: lm_acc improved from 0.59956 to 0.65631, saving model to ko2jp_trans.hdf5\n",
            "Epoch 5/40\n",
            "313/313 [==============================] - 145s 463ms/step - loss: 0.3489 - lm_acc: 0.6825\n",
            "\n",
            "Epoch 00005: lm_acc improved from 0.65631 to 0.68252, saving model to ko2jp_trans.hdf5\n",
            "Epoch 6/40\n",
            "313/313 [==============================] - 145s 462ms/step - loss: 0.3265 - lm_acc: 0.6987\n",
            "\n",
            "Epoch 00006: lm_acc improved from 0.68252 to 0.69871, saving model to ko2jp_trans.hdf5\n",
            "Epoch 7/40\n",
            "313/313 [==============================] - 145s 463ms/step - loss: 0.3112 - lm_acc: 0.7097\n",
            "\n",
            "Epoch 00007: lm_acc improved from 0.69871 to 0.70972, saving model to ko2jp_trans.hdf5\n",
            "Epoch 8/40\n",
            "313/313 [==============================] - 145s 463ms/step - loss: 0.3001 - lm_acc: 0.7179\n",
            "\n",
            "Epoch 00008: lm_acc improved from 0.70972 to 0.71794, saving model to ko2jp_trans.hdf5\n",
            "Epoch 9/40\n",
            "313/313 [==============================] - 145s 463ms/step - loss: 0.2911 - lm_acc: 0.7247\n",
            "\n",
            "Epoch 00009: lm_acc improved from 0.71794 to 0.72470, saving model to ko2jp_trans.hdf5\n",
            "Epoch 10/40\n",
            "313/313 [==============================] - 145s 463ms/step - loss: 0.2843 - lm_acc: 0.7295\n",
            "\n",
            "Epoch 00010: lm_acc improved from 0.72470 to 0.72954, saving model to ko2jp_trans.hdf5\n",
            "Epoch 11/40\n",
            "313/313 [==============================] - 145s 463ms/step - loss: 0.2785 - lm_acc: 0.7338\n",
            "\n",
            "Epoch 00011: lm_acc improved from 0.72954 to 0.73380, saving model to ko2jp_trans.hdf5\n",
            "Epoch 12/40\n",
            "313/313 [==============================] - 145s 462ms/step - loss: 0.2738 - lm_acc: 0.7373\n",
            "\n",
            "Epoch 00012: lm_acc improved from 0.73380 to 0.73731, saving model to ko2jp_trans.hdf5\n",
            "Epoch 13/40\n",
            "313/313 [==============================] - 145s 463ms/step - loss: 0.2696 - lm_acc: 0.7405\n",
            "\n",
            "Epoch 00013: lm_acc improved from 0.73731 to 0.74051, saving model to ko2jp_trans.hdf5\n",
            "Epoch 14/40\n",
            "313/313 [==============================] - 145s 463ms/step - loss: 0.2660 - lm_acc: 0.7431\n",
            "\n",
            "Epoch 00014: lm_acc improved from 0.74051 to 0.74310, saving model to ko2jp_trans.hdf5\n",
            "Epoch 15/40\n",
            "313/313 [==============================] - 145s 463ms/step - loss: 0.2628 - lm_acc: 0.7453\n",
            "\n",
            "Epoch 00015: lm_acc improved from 0.74310 to 0.74534, saving model to ko2jp_trans.hdf5\n",
            "Epoch 16/40\n",
            "313/313 [==============================] - 145s 463ms/step - loss: 0.2601 - lm_acc: 0.7476\n",
            "\n",
            "Epoch 00016: lm_acc improved from 0.74534 to 0.74758, saving model to ko2jp_trans.hdf5\n",
            "Epoch 17/40\n",
            "313/313 [==============================] - 145s 463ms/step - loss: 0.2576 - lm_acc: 0.7494\n",
            "\n",
            "Epoch 00017: lm_acc improved from 0.74758 to 0.74940, saving model to ko2jp_trans.hdf5\n",
            "Epoch 18/40\n",
            "313/313 [==============================] - 145s 463ms/step - loss: 0.2553 - lm_acc: 0.7511\n",
            "\n",
            "Epoch 00018: lm_acc improved from 0.74940 to 0.75109, saving model to ko2jp_trans.hdf5\n",
            "Epoch 19/40\n",
            "313/313 [==============================] - 145s 463ms/step - loss: 0.2533 - lm_acc: 0.7527\n",
            "\n",
            "Epoch 00019: lm_acc improved from 0.75109 to 0.75267, saving model to ko2jp_trans.hdf5\n",
            "Epoch 20/40\n",
            "313/313 [==============================] - 145s 463ms/step - loss: 0.2513 - lm_acc: 0.7538\n",
            "\n",
            "Epoch 00020: lm_acc improved from 0.75267 to 0.75380, saving model to ko2jp_trans.hdf5\n",
            "Epoch 21/40\n",
            "313/313 [==============================] - 145s 463ms/step - loss: 0.2495 - lm_acc: 0.7555\n",
            "\n",
            "Epoch 00021: lm_acc improved from 0.75380 to 0.75553, saving model to ko2jp_trans.hdf5\n",
            "Epoch 22/40\n",
            "313/313 [==============================] - 145s 463ms/step - loss: 0.2480 - lm_acc: 0.7565\n",
            "\n",
            "Epoch 00022: lm_acc improved from 0.75553 to 0.75654, saving model to ko2jp_trans.hdf5\n",
            "Epoch 23/40\n",
            "313/313 [==============================] - 145s 463ms/step - loss: 0.2463 - lm_acc: 0.7577\n",
            "\n",
            "Epoch 00023: lm_acc improved from 0.75654 to 0.75767, saving model to ko2jp_trans.hdf5\n",
            "Epoch 24/40\n",
            "313/313 [==============================] - 145s 463ms/step - loss: 0.2451 - lm_acc: 0.7586\n",
            "\n",
            "Epoch 00024: lm_acc improved from 0.75767 to 0.75856, saving model to ko2jp_trans.hdf5\n",
            "Epoch 25/40\n",
            "313/313 [==============================] - 145s 463ms/step - loss: 0.2437 - lm_acc: 0.7596\n",
            "\n",
            "Epoch 00025: lm_acc improved from 0.75856 to 0.75957, saving model to ko2jp_trans.hdf5\n",
            "Epoch 26/40\n",
            "313/313 [==============================] - 145s 463ms/step - loss: 0.2425 - lm_acc: 0.7605\n",
            "\n",
            "Epoch 00026: lm_acc improved from 0.75957 to 0.76047, saving model to ko2jp_trans.hdf5\n",
            "Epoch 27/40\n",
            "313/313 [==============================] - 145s 463ms/step - loss: 0.2414 - lm_acc: 0.7615\n",
            "\n",
            "Epoch 00027: lm_acc improved from 0.76047 to 0.76146, saving model to ko2jp_trans.hdf5\n",
            "Epoch 28/40\n",
            "313/313 [==============================] - 145s 463ms/step - loss: 0.2402 - lm_acc: 0.7622\n",
            "\n",
            "Epoch 00028: lm_acc improved from 0.76146 to 0.76222, saving model to ko2jp_trans.hdf5\n",
            "Epoch 29/40\n",
            "313/313 [==============================] - 145s 463ms/step - loss: 0.2394 - lm_acc: 0.7628\n",
            "\n",
            "Epoch 00029: lm_acc improved from 0.76222 to 0.76277, saving model to ko2jp_trans.hdf5\n",
            "Epoch 30/40\n",
            "313/313 [==============================] - 145s 463ms/step - loss: 0.2384 - lm_acc: 0.7635\n",
            "\n",
            "Epoch 00030: lm_acc improved from 0.76277 to 0.76345, saving model to ko2jp_trans.hdf5\n",
            "Epoch 31/40\n",
            "313/313 [==============================] - 145s 463ms/step - loss: 0.2374 - lm_acc: 0.7642\n",
            "\n",
            "Epoch 00031: lm_acc improved from 0.76345 to 0.76424, saving model to ko2jp_trans.hdf5\n",
            "Epoch 32/40\n",
            "313/313 [==============================] - 145s 463ms/step - loss: 0.2366 - lm_acc: 0.7650\n",
            "\n",
            "Epoch 00032: lm_acc improved from 0.76424 to 0.76495, saving model to ko2jp_trans.hdf5\n",
            "Epoch 33/40\n",
            "313/313 [==============================] - 145s 463ms/step - loss: 0.2356 - lm_acc: 0.7657\n",
            "\n",
            "Epoch 00033: lm_acc improved from 0.76495 to 0.76569, saving model to ko2jp_trans.hdf5\n",
            "Epoch 34/40\n",
            "313/313 [==============================] - 145s 463ms/step - loss: 0.2349 - lm_acc: 0.7662\n",
            "\n",
            "Epoch 00034: lm_acc improved from 0.76569 to 0.76618, saving model to ko2jp_trans.hdf5\n",
            "Epoch 35/40\n",
            "313/313 [==============================] - 145s 463ms/step - loss: 0.2342 - lm_acc: 0.7667\n",
            "\n",
            "Epoch 00035: lm_acc improved from 0.76618 to 0.76674, saving model to ko2jp_trans.hdf5\n",
            "Epoch 36/40\n",
            "313/313 [==============================] - 145s 463ms/step - loss: 0.2333 - lm_acc: 0.7674\n",
            "\n",
            "Epoch 00036: lm_acc improved from 0.76674 to 0.76740, saving model to ko2jp_trans.hdf5\n",
            "Epoch 37/40\n",
            "313/313 [==============================] - 145s 463ms/step - loss: 0.2326 - lm_acc: 0.7677\n",
            "\n",
            "Epoch 00037: lm_acc improved from 0.76740 to 0.76769, saving model to ko2jp_trans.hdf5\n",
            "Epoch 38/40\n",
            "313/313 [==============================] - 145s 463ms/step - loss: 0.2321 - lm_acc: 0.7682\n",
            "\n",
            "Epoch 00038: lm_acc improved from 0.76769 to 0.76817, saving model to ko2jp_trans.hdf5\n",
            "Epoch 39/40\n",
            "313/313 [==============================] - 145s 463ms/step - loss: 0.2315 - lm_acc: 0.7687\n",
            "\n",
            "Epoch 00039: lm_acc improved from 0.76817 to 0.76866, saving model to ko2jp_trans.hdf5\n",
            "Epoch 40/40\n",
            "313/313 [==============================] - 145s 463ms/step - loss: 0.2308 - lm_acc: 0.7692\n",
            "\n",
            "Epoch 00040: lm_acc improved from 0.76866 to 0.76917, saving model to ko2jp_trans.hdf5\n"
          ]
        }
      ]
    },
    {
      "cell_type": "code",
      "metadata": {
        "colab": {
          "base_uri": "https://localhost:8080/",
          "height": 281
        },
        "id": "Ryx9Qe5K7_Tw",
        "outputId": "efb03d66-ee8d-4fb5-ed00-26d34aa86adf"
      },
      "source": [
        "# training result\n",
        "plt.figure(figsize=(12, 4))\n",
        "\n",
        "plt.subplot(1, 2, 1)\n",
        "plt.plot(history.history['loss'], 'b-', label='loss')\n",
        "plt.xlabel('Epoch')\n",
        "plt.legend()\n",
        "\n",
        "plt.subplot(1, 2, 2)\n",
        "plt.plot(history.history['lm_acc'], 'g-', label='accuracy')\n",
        "plt.xlabel('Epoch')\n",
        "plt.legend()\n",
        "\n",
        "plt.show()"
      ],
      "execution_count": 37,
      "outputs": [
        {
          "output_type": "display_data",
          "data": {
            "image/png": "[encoded data removed]",
            "text/plain": [
              "<Figure size 864x288 with 2 Axes>"
            ]
          },
          "metadata": {
            "needs_background": "light"
          }
        }
      ]
    },
    {
      "cell_type": "code",
      "metadata": {
        "id": "ZOH9-PCT8DBC"
      },
      "source": [
        "# 기존 학습 weight 로드\n",
        "model.load_weights(\"ko2jp_trans.hdf5\")"
      ],
      "execution_count": null,
      "outputs": []
    },
    {
      "cell_type": "code",
      "metadata": {
        "id": "zeV6ucqY8ESD"
      },
      "source": [
        "def do_predict(model, n_seq, string):\n",
        "    \"\"\"\n",
        "    입력에 대한 답변 생성하는 함수\n",
        "    :param model: model\n",
        "    :param n_seq: 디코더 입력 개수\n",
        "    :param string: 입력 문자열\n",
        "    \"\"\"\n",
        "    # enc_token 생성: <string tokens>, [PAD] tokens\n",
        "    enc_token = kor_vocab.encode_as_ids(string)\n",
        "    # dec_token 생성: [BOS], [PAD] tokens\n",
        "    dec_token = [jp_vocab.bos_id()]\n",
        "    dec_token += [0] * (n_seq - len(dec_token))\n",
        "    dec_token = dec_token[:n_seq]\n",
        "\n",
        "    response = []\n",
        "    for i in range(n_seq - 1):\n",
        "        # model 실행\n",
        "        output = model.predict((np.array([enc_token]), np.array([dec_token])))\n",
        "        # decoder의 마지막 위치의 token 예측 값\n",
        "        word_id = int(np.argmax(output, axis=2)[0][i])\n",
        "        # [EOS] 토큰이 생성되면 종료\n",
        "        if word_id == jp_vocab.eos_id():\n",
        "            break\n",
        "        # 예측된 token을 응답에 저장\n",
        "        response.append(word_id)\n",
        "        # 예측된 token을 decoder의 다음 입력으로 저장\n",
        "        dec_token[i + 1] = word_id\n",
        "    \n",
        "    # 생성된 token을 문자열로 변경\n",
        "    return jp_vocab.decode_ids(response)"
      ],
      "execution_count": 38,
      "outputs": []
    },
    {
      "cell_type": "code",
      "metadata": {
        "colab": {
          "base_uri": "https://localhost:8080/",
          "height": 35
        },
        "id": "70gBvYrlFhCR",
        "outputId": "00e72920-da46-4e55-9ab9-2c92c69b5a5f"
      },
      "source": [
        "string = '장하리 역을 맡게 된 배우다.'\n",
        "do_predict(model, 20, string)"
      ],
      "execution_count": 39,
      "outputs": [
        {
          "output_type": "execute_result",
          "data": {
            "application/vnd.google.colaboratory.intrinsic+json": {
              "type": "string"
            },
            "text/plain": [
              "'チャン・ハリ役を演じるようになった俳優だ。'"
            ]
          },
          "metadata": {},
          "execution_count": 39
        }
      ]
    },
    {
      "cell_type": "code",
      "metadata": {
        "colab": {
          "base_uri": "https://localhost:8080/",
          "height": 35
        },
        "id": "MbhR0AzjFsMe",
        "outputId": "80739664-0c82-4b16-eb49-775f8e75d18a"
      },
      "source": [
        "string = '이 노래는 사랑하는 사람을 위한 노래다.'\n",
        "do_predict(model, 20, string)"
      ],
      "execution_count": 40,
      "outputs": [
        {
          "output_type": "execute_result",
          "data": {
            "application/vnd.google.colaboratory.intrinsic+json": {
              "type": "string"
            },
            "text/plain": [
              "'この歌は愛する人のための歌だ。'"
            ]
          },
          "metadata": {},
          "execution_count": 40
        }
      ]
    },
    {
      "cell_type": "code",
      "metadata": {
        "colab": {
          "base_uri": "https://localhost:8080/"
        },
        "id": "9M2XO2iCZxJx",
        "outputId": "e675396c-ace0-4943-abd3-58839c9d0e8f"
      },
      "source": [
        "import nltk.translate.bleu_score as bleu\n",
        "\n",
        "candidate = 'It is a guide to action which ensures that the military always obeys the commands of the party'\n",
        "reference = 'It is a guide to action that ensures that the military will forever heed Party commands'\n",
        "\n",
        "bleu.sentence_bleu([reference.split()],candidate.split())"
      ],
      "execution_count": 41,
      "outputs": [
        {
          "output_type": "execute_result",
          "data": {
            "text/plain": [
              "0.41180376356915777"
            ]
          },
          "metadata": {},
          "execution_count": 41
        }
      ]
    },
    {
      "cell_type": "code",
      "metadata": {
        "id": "uwUsFCwnd6GM"
      },
      "source": [
        "val_df=pd.read_csv(file_path+'/ko2ja_kpop_2_validation.csv')"
      ],
      "execution_count": 42,
      "outputs": []
    },
    {
      "cell_type": "code",
      "metadata": {
        "colab": {
          "base_uri": "https://localhost:8080/"
        },
        "id": "HFIKkAgrd6Ir",
        "outputId": "0a27f360-f751-4902-d292-260afa076ecd"
      },
      "source": [
        "val_df.shape"
      ],
      "execution_count": 43,
      "outputs": [
        {
          "output_type": "execute_result",
          "data": {
            "text/plain": [
              "(20000, 9)"
            ]
          },
          "metadata": {},
          "execution_count": 43
        }
      ]
    },
    {
      "cell_type": "code",
      "metadata": {
        "id": "Ff7Y9XGGeST0"
      },
      "source": [
        "sample_val_df = val_df.loc[:19,:]"
      ],
      "execution_count": 189,
      "outputs": []
    },
    {
      "cell_type": "code",
      "metadata": {
        "id": "G1tPhqKcee-S"
      },
      "source": [
        "def cal_predcit(text):\n",
        "  return do_predict(model, 200, text)"
      ],
      "execution_count": 190,
      "outputs": []
    },
    {
      "cell_type": "code",
      "metadata": {
        "colab": {
          "base_uri": "https://localhost:8080/"
        },
        "id": "vPMbqfiNeSWf",
        "outputId": "75c815a3-5730-41f3-99e1-807d6631be16"
      },
      "source": [
        "sample_val_df['predict'] = sample_val_df['한국어'].apply(cal_predcit)"
      ],
      "execution_count": 191,
      "outputs": [
        {
          "output_type": "stream",
          "name": "stderr",
          "text": [
            "/usr/local/lib/python3.7/dist-packages/ipykernel_launcher.py:1: SettingWithCopyWarning: \n",
            "A value is trying to be set on a copy of a slice from a DataFrame.\n",
            "Try using .loc[row_indexer,col_indexer] = value instead\n",
            "\n",
            "See the caveats in the documentation: https://pandas.pydata.org/pandas-docs/stable/user_guide/indexing.html#returning-a-view-versus-a-copy\n",
            "  \"\"\"Entry point for launching an IPython kernel.\n"
          ]
        }
      ]
    },
    {
      "cell_type": "code",
      "metadata": {
        "colab": {
          "base_uri": "https://localhost:8080/",
          "height": 1000
        },
        "id": "WlZ9jDjDeSaF",
        "outputId": "ab41f843-1b00-4d02-f702-d5c999a5fc0d"
      },
      "source": [
        "sample_val_df"
      ],
      "execution_count": 192,
      "outputs": [
        {
          "output_type": "execute_result",
          "data": {
            "text/html": [
              "<div>\n",
              "<style scoped>\n",
              "    .dataframe tbody tr th:only-of-type {\n",
              "        vertical-align: middle;\n",
              "    }\n",
              "\n",
              "    .dataframe tbody tr th {\n",
              "        vertical-align: top;\n",
              "    }\n",
              "\n",
              "    .dataframe thead th {\n",
              "        text-align: right;\n",
              "    }\n",
              "</style>\n",
              "<table border=\"1\" class=\"dataframe\">\n",
              "  <thead>\n",
              "    <tr style=\"text-align: right;\">\n",
              "      <th></th>\n",
              "      <th>관리번호</th>\n",
              "      <th>분야</th>\n",
              "      <th>한국어</th>\n",
              "      <th>일본어</th>\n",
              "      <th>한국어_어절수</th>\n",
              "      <th>일본어_글자수</th>\n",
              "      <th>길이_분류</th>\n",
              "      <th>출처</th>\n",
              "      <th>수행기관</th>\n",
              "      <th>predict</th>\n",
              "    </tr>\n",
              "  </thead>\n",
              "  <tbody>\n",
              "    <tr>\n",
              "      <th>0</th>\n",
              "      <td>KO-JA-2020-KPOP-160501</td>\n",
              "      <td>K-POP(한류)/대중문화공연콘텐츠</td>\n",
              "      <td>행사는 '인디펜던트 스프릿 어워즈(Independent Spirit Awards)'...</td>\n",
              "      <td>イベントは「インディペンデント・スプリット・アワード(Independent Spirit ...</td>\n",
              "      <td>20</td>\n",
              "      <td>74</td>\n",
              "      <td>4</td>\n",
              "      <td>http://news.kmib.co.kr/article/view.asp?arcid=...</td>\n",
              "      <td>플리토</td>\n",
              "      <td>行事は「インディペンダント・スプレットアワード(Independent Spirit Awa...</td>\n",
              "    </tr>\n",
              "    <tr>\n",
              "      <th>1</th>\n",
              "      <td>KO-JA-2020-KPOP-160502</td>\n",
              "      <td>K-POP(한류)/대중문화공연콘텐츠</td>\n",
              "      <td>다시 돌고 돌아 서울에서 81세 최고령 신청자가 '불효자는 웁니다'라는 곡을 정동원...</td>\n",
              "      <td>再び戻ってソウルで81才最高齢申請者が「不孝子は泣きます」という曲をチョン・ドンウォンに頼み...</td>\n",
              "      <td>27</td>\n",
              "      <td>92</td>\n",
              "      <td>5</td>\n",
              "      <td>http://www.sedaily.com/NewsView/1Z1IDQ5VDA</td>\n",
              "      <td>플리토</td>\n",
              "      <td>再びイルカで81歳最高齢申請者が「不孝子は大きいです」という曲をチョン・ドンウォンに頼み、幼...</td>\n",
              "    </tr>\n",
              "    <tr>\n",
              "      <th>2</th>\n",
              "      <td>KO-JA-2020-KPOP-160503</td>\n",
              "      <td>K-POP(한류)/대중문화공연콘텐츠</td>\n",
              "      <td>생전 아버지가 오래 국회의원 보좌관을 했던 김무열은 \"아버지의 모든 걸 공감할 수 ...</td>\n",
              "      <td>生前、父親が永く国会議員の補佐官を務めたキム・ムヨルは「父親のすべてを共感することはできない...</td>\n",
              "      <td>20</td>\n",
              "      <td>72</td>\n",
              "      <td>4</td>\n",
              "      <td>http://www.sedaily.com/NewsView/1YYVBWQGCP</td>\n",
              "      <td>플리토</td>\n",
              "      <td>生前の父親が長く国会議員補佐官をしたキム・ムヨルは「父親のすべてを共感できないが、補佐官とい...</td>\n",
              "    </tr>\n",
              "    <tr>\n",
              "      <th>3</th>\n",
              "      <td>KO-JA-2020-KPOP-160504</td>\n",
              "      <td>K-POP(한류)/대중문화공연콘텐츠</td>\n",
              "      <td>지난 26일 SBS '본격 연예 한밤'에는 하정우와 이병헌이 출연해 영화 '백두산'...</td>\n",
              "      <td>26日SBS「本格芸能真夜」にはハ・ジョンウとイ・ビョンホンが出演し、映画「白頭山」に対して...</td>\n",
              "      <td>14</td>\n",
              "      <td>39</td>\n",
              "      <td>2</td>\n",
              "      <td>http://news.kmib.co.kr/article/view.asp?arcid=...</td>\n",
              "      <td>플리토</td>\n",
              "      <td>26日SBS「本格芸能真夜中」にはハ・ジョンウとイ・ビョンホンが出演し、映画「白頭山」に対し...</td>\n",
              "    </tr>\n",
              "    <tr>\n",
              "      <th>4</th>\n",
              "      <td>KO-JA-2020-KPOP-160505</td>\n",
              "      <td>K-POP(한류)/대중문화공연콘텐츠</td>\n",
              "      <td>MC 신동엽이 손담비에 \"어머니가 결혼하라는 말씀은 안하시나\"라고 물었다.</td>\n",
              "      <td>MCのシン・ドンヨプがソン・ダムビに「母親が結婚しろという話はしないのか」と聞いた。</td>\n",
              "      <td>8</td>\n",
              "      <td>35</td>\n",
              "      <td>1</td>\n",
              "      <td>http://en.seoul.co.kr/news/newsView.php?id=201...</td>\n",
              "      <td>플리토</td>\n",
              "      <td>MCシン・ドンヨプがソン・ダムビに「母親が結婚するなんだよ」と尋ねた。</td>\n",
              "    </tr>\n",
              "    <tr>\n",
              "      <th>5</th>\n",
              "      <td>KO-JA-2020-KPOP-160506</td>\n",
              "      <td>K-POP(한류)/대중문화공연콘텐츠</td>\n",
              "      <td>세종은 천민인 장영실을 알아봐주고 그가 가진 능력을 발휘할 수 있도록 배려해줬다.</td>\n",
              "      <td>世宗は賎民のジャン・ヨンシルを認めて彼が持つ能力を発揮できるように配慮してあげた。</td>\n",
              "      <td>11</td>\n",
              "      <td>39</td>\n",
              "      <td>2</td>\n",
              "      <td>http://www.sedaily.com/NewsView/1VS3J41PUT</td>\n",
              "      <td>플리토</td>\n",
              "      <td>世宗はチョンミンインのチャン・ヨンシルを調べて彼が持つ能力を発揮できるように配慮してくれた。</td>\n",
              "    </tr>\n",
              "    <tr>\n",
              "      <th>6</th>\n",
              "      <td>KO-JA-2020-KPOP-160507</td>\n",
              "      <td>K-POP(한류)/대중문화공연콘텐츠</td>\n",
              "      <td>아들과 엄마가 부딪치기도 하고 한발 물러나야 할 때의 에너지도 있었는데, 너무 잘해...</td>\n",
              "      <td>息子と母親がぶつかったり、一歩退かなければならない時のエネルギーもあったが、とてもよくやって...</td>\n",
              "      <td>12</td>\n",
              "      <td>46</td>\n",
              "      <td>2</td>\n",
              "      <td>https://www.nocutnews.co.kr/news/5262673</td>\n",
              "      <td>플리토</td>\n",
              "      <td>息子と母親がぶつかりもして一歩退くべき時のエネルギーもあったが、とても上手にしてくれた。</td>\n",
              "    </tr>\n",
              "    <tr>\n",
              "      <th>7</th>\n",
              "      <td>KO-JA-2020-KPOP-160508</td>\n",
              "      <td>K-POP(한류)/대중문화공연콘텐츠</td>\n",
              "      <td>그의 병역 기피 논란을 바라보는 대중의 비난은 여전하지만 오랜만에 복귀한 그를 향한...</td>\n",
              "      <td>彼の兵役忌避論議を眺める大衆の非難は相変わらずだが、久しぶりに復帰した彼への関心が熱い。</td>\n",
              "      <td>14</td>\n",
              "      <td>42</td>\n",
              "      <td>2</td>\n",
              "      <td>http://www.seoul.co.kr/news/newsView.php?id=20...</td>\n",
              "      <td>플리토</td>\n",
              "      <td>彼の兵役忌避論難を眺める大衆の非難は相変わらず、久しぶりに復帰した彼に向けられた関心が熱い。</td>\n",
              "    </tr>\n",
              "    <tr>\n",
              "      <th>8</th>\n",
              "      <td>KO-JA-2020-KPOP-160509</td>\n",
              "      <td>K-POP(한류)/대중문화공연콘텐츠</td>\n",
              "      <td>별풍선 15억의 레전드로 유명한 BJ 박가린이 뽀얀 속살을 드러냈다.</td>\n",
              "      <td>星の風船15億のレジェンドで有名な、BJパク・ガリンが白い肌を現した。</td>\n",
              "      <td>9</td>\n",
              "      <td>28</td>\n",
              "      <td>1</td>\n",
              "      <td>http://www.seoul.co.kr/news/newsView.php?id=20...</td>\n",
              "      <td>플리토</td>\n",
              "      <td>星風船15億のレジェンドで有名なBJパク・ガリンが白い中殺を現した。</td>\n",
              "    </tr>\n",
              "    <tr>\n",
              "      <th>9</th>\n",
              "      <td>KO-JA-2020-KPOP-160510</td>\n",
              "      <td>K-POP(한류)/대중문화공연콘텐츠</td>\n",
              "      <td>'드림캐쳐'는 노래도 노래지만, 컴백 전 퍼포먼스에 대한 팬들의 기대가 높은 그룹이...</td>\n",
              "      <td>「DREAMCATCHER」は歌も歌だが、カムバック前パフォーマンスに対するファンの期待が高...</td>\n",
              "      <td>12</td>\n",
              "      <td>38</td>\n",
              "      <td>2</td>\n",
              "      <td>http://www.sedaily.com/NewsView/1YZ26IPY1M</td>\n",
              "      <td>플리토</td>\n",
              "      <td>「ドリームキャッチャー」は歌も歌もある歌もある歌もある。</td>\n",
              "    </tr>\n",
              "    <tr>\n",
              "      <th>10</th>\n",
              "      <td>KO-JA-2020-KPOP-160511</td>\n",
              "      <td>K-POP(한류)/대중문화공연콘텐츠</td>\n",
              "      <td>지난 25일 '가요대전' 리허설 중 안타까운 사고가 발생했습니다.</td>\n",
              "      <td>昨25日「SBS歌謡大祭典」リハーサル中に残念な事故が発生しました。</td>\n",
              "      <td>8</td>\n",
              "      <td>25</td>\n",
              "      <td>1</td>\n",
              "      <td>http://www.sedaily.com/NewsView/1VS8J6XC87</td>\n",
              "      <td>플리토</td>\n",
              "      <td>25日「歌謡大祭典」のリハーサル中に残念な事故が発生しました。</td>\n",
              "    </tr>\n",
              "    <tr>\n",
              "      <th>11</th>\n",
              "      <td>KO-JA-2020-KPOP-160512</td>\n",
              "      <td>K-POP(한류)/대중문화공연콘텐츠</td>\n",
              "      <td>허진호 감독이 선사하는 아주 특별한 영화 〈선물〉이 오는 10월 28일 공개를 확정...</td>\n",
              "      <td>ホ・ジノホ監督が贈る特別な映画&lt;プレゼント&gt;が10月28日公開を確定し、キャラクターのコミッ...</td>\n",
              "      <td>19</td>\n",
              "      <td>56</td>\n",
              "      <td>3</td>\n",
              "      <td>http://www.sedaily.com/NewsView/1VPMS4TZY1</td>\n",
              "      <td>플리토</td>\n",
              "      <td>ホ・ジンホ監督が贈る非常に特別な映画「プレゼント」が10月28日公開を確定し、キャラクターた...</td>\n",
              "    </tr>\n",
              "    <tr>\n",
              "      <th>12</th>\n",
              "      <td>KO-JA-2020-KPOP-160513</td>\n",
              "      <td>K-POP(한류)/대중문화공연콘텐츠</td>\n",
              "      <td>특히 어느 가구가 어느 층, 어느 위치, 어떤 방식의 집을 소유할 것인가에 대한 이...</td>\n",
              "      <td>特にどの世帯がどの階、どの位置、どんな方式の家を所有するかに対する利害争いが生じないように、...</td>\n",
              "      <td>24</td>\n",
              "      <td>73</td>\n",
              "      <td>4</td>\n",
              "      <td>http://www.sedaily.com/NewsView/1VQYLYG9SE</td>\n",
              "      <td>플리토</td>\n",
              "      <td>特に、ある世帯がどれほど、ある位置、どんな状況の家を所有することなのかに対する理解争いが生じ...</td>\n",
              "    </tr>\n",
              "    <tr>\n",
              "      <th>13</th>\n",
              "      <td>KO-JA-2020-KPOP-160514</td>\n",
              "      <td>K-POP(한류)/대중문화공연콘텐츠</td>\n",
              "      <td>어제 오후 방송된 MBC '복면가왕'에서는 노라조의 새 멤버 원흠이 '아쿠아리움'으...</td>\n",
              "      <td>昨日午後に放送されたMBC「覆面歌王」では、NORAZOの新しいメンバーのウォンフムが「アク...</td>\n",
              "      <td>11</td>\n",
              "      <td>43</td>\n",
              "      <td>2</td>\n",
              "      <td>http://www.sedaily.com/NewsView/1VKD2RZWO3</td>\n",
              "      <td>플리토</td>\n",
              "      <td>昨日午後放送されたMBC「覆面歌王」では、NORAZOの新しいメンバーのウォンフムが「アクア...</td>\n",
              "    </tr>\n",
              "    <tr>\n",
              "      <th>14</th>\n",
              "      <td>KO-JA-2020-KPOP-160515</td>\n",
              "      <td>K-POP(한류)/대중문화공연콘텐츠</td>\n",
              "      <td>네티즌이 거세게 비난하자 결국 민티는 해당 글을 삭제했다.</td>\n",
              "      <td>ネチズンが激しく非難すると、結局ミンティは該当文を削除した。</td>\n",
              "      <td>8</td>\n",
              "      <td>28</td>\n",
              "      <td>1</td>\n",
              "      <td>http://en.seoul.co.kr/news/newsView.php?id=201...</td>\n",
              "      <td>플리토</td>\n",
              "      <td>ネチズンが強く非難すると、結局ミンティは該当文を削除した。</td>\n",
              "    </tr>\n",
              "    <tr>\n",
              "      <th>15</th>\n",
              "      <td>KO-JA-2020-KPOP-160516</td>\n",
              "      <td>K-POP(한류)/대중문화공연콘텐츠</td>\n",
              "      <td>새로운 멤버들이 첫 번째 버스킹을 펼칠 곳은 젊은 예술가들의 천국으로 알려진 독일의...</td>\n",
              "      <td>新しいメンバーたちが最初のバスキングを繰り広げる所は、若い芸術家たちの天国として知られるドイ...</td>\n",
              "      <td>14</td>\n",
              "      <td>53</td>\n",
              "      <td>2</td>\n",
              "      <td>http://www.sedaily.com/NewsView/1VN64HKJMY</td>\n",
              "      <td>플리토</td>\n",
              "      <td>新しいメンバーたちが最初のバスキングを繰り広げる所は若い芸術家の天国として知られたドイツの首...</td>\n",
              "    </tr>\n",
              "    <tr>\n",
              "      <th>16</th>\n",
              "      <td>KO-JA-2020-KPOP-160517</td>\n",
              "      <td>K-POP(한류)/대중문화공연콘텐츠</td>\n",
              "      <td>한편 신개념 '효도 예능'으로 호평을 모으고 있는 MBN '최고의 한방' 16회에서...</td>\n",
              "      <td>一方、新概念「親孝行芸能」で好評を集めているMBN「最高の一発」の16話では、牧場体験に出た...</td>\n",
              "      <td>20</td>\n",
              "      <td>55</td>\n",
              "      <td>4</td>\n",
              "      <td>http://en.seoul.co.kr/news/newsView.php?id=201...</td>\n",
              "      <td>플리토</td>\n",
              "      <td>一方、新概念「孝行芸能」で好評を集めているMBN「最高の一発」16回では首長体験に乗り出した...</td>\n",
              "    </tr>\n",
              "    <tr>\n",
              "      <th>17</th>\n",
              "      <td>KO-JA-2020-KPOP-160518</td>\n",
              "      <td>K-POP(한류)/대중문화공연콘텐츠</td>\n",
              "      <td>JTBC '날찾아' 첫 방송 전, 5분 30초 하이라이트가 공개된 이후, 시청자들이...</td>\n",
              "      <td>JTBC「私を探して」初めての放送前、5分30秒のハイライトが公開された後、視聴者が一番待っ...</td>\n",
              "      <td>17</td>\n",
              "      <td>50</td>\n",
              "      <td>3</td>\n",
              "      <td>http://www.sedaily.com/NewsView/1Z08GKG5C7</td>\n",
              "      <td>플리토</td>\n",
              "      <td>JTBC「私を探して」初放送前、5分30秒のハイライトが公開された以後、視聴者が一番待ってい...</td>\n",
              "    </tr>\n",
              "    <tr>\n",
              "      <th>18</th>\n",
              "      <td>KO-JA-2020-KPOP-160519</td>\n",
              "      <td>K-POP(한류)/대중문화공연콘텐츠</td>\n",
              "      <td>다음달 14일 개봉 예정인 영화 대통령의 7시간에 대한 영화팬들의 관심이 비상한 가...</td>\n",
              "      <td>来月14日に封切り予定の映画「大統領の7時間」に対する映画ファンの関心が高い中、ポータル関心...</td>\n",
              "      <td>17</td>\n",
              "      <td>54</td>\n",
              "      <td>3</td>\n",
              "      <td>http://www.sedaily.com/NewsView/1VPQH8ZIA7</td>\n",
              "      <td>플리토</td>\n",
              "      <td>来月14日に封切り予定の映画大統領の7時間に対する映画ファンたちの関心が非常な中でポータルの...</td>\n",
              "    </tr>\n",
              "    <tr>\n",
              "      <th>19</th>\n",
              "      <td>KO-JA-2020-KPOP-160520</td>\n",
              "      <td>K-POP(한류)/대중문화공연콘텐츠</td>\n",
              "      <td>예컨대 산에 피어 있는 꽃이 아름답다 하여 그 꽃을 꺾거나 모종삽으로 옮겨와 화분에...</td>\n",
              "      <td>例えば、山に咲いている花が美しいと言って、その花を折ったり、移植ごてで運んできて植木鉢に植え...</td>\n",
              "      <td>27</td>\n",
              "      <td>87</td>\n",
              "      <td>5</td>\n",
              "      <td>http://news.kmib.co.kr/article/view.asp?arcid=...</td>\n",
              "      <td>플리토</td>\n",
              "      <td>例えば、山に咲いている花が美しいと言って、その花を折ったり、モージョンに移ってきて和分に植え...</td>\n",
              "    </tr>\n",
              "  </tbody>\n",
              "</table>\n",
              "</div>"
            ],
            "text/plain": [
              "                      관리번호  ...                                            predict\n",
              "0   KO-JA-2020-KPOP-160501  ...  行事は「インディペンダント・スプレットアワード(Independent Spirit Awa...\n",
              "1   KO-JA-2020-KPOP-160502  ...  再びイルカで81歳最高齢申請者が「不孝子は大きいです」という曲をチョン・ドンウォンに頼み、幼...\n",
              "2   KO-JA-2020-KPOP-160503  ...  生前の父親が長く国会議員補佐官をしたキム・ムヨルは「父親のすべてを共感できないが、補佐官とい...\n",
              "3   KO-JA-2020-KPOP-160504  ...  26日SBS「本格芸能真夜中」にはハ・ジョンウとイ・ビョンホンが出演し、映画「白頭山」に対し...\n",
              "4   KO-JA-2020-KPOP-160505  ...                MCシン・ドンヨプがソン・ダムビに「母親が結婚するなんだよ」と尋ねた。\n",
              "5   KO-JA-2020-KPOP-160506  ...     世宗はチョンミンインのチャン・ヨンシルを調べて彼が持つ能力を発揮できるように配慮してくれた。\n",
              "6   KO-JA-2020-KPOP-160507  ...       息子と母親がぶつかりもして一歩退くべき時のエネルギーもあったが、とても上手にしてくれた。\n",
              "7   KO-JA-2020-KPOP-160508  ...     彼の兵役忌避論難を眺める大衆の非難は相変わらず、久しぶりに復帰した彼に向けられた関心が熱い。\n",
              "8   KO-JA-2020-KPOP-160509  ...                 星風船15億のレジェンドで有名なBJパク・ガリンが白い中殺を現した。\n",
              "9   KO-JA-2020-KPOP-160510  ...                       「ドリームキャッチャー」は歌も歌もある歌もある歌もある。\n",
              "10  KO-JA-2020-KPOP-160511  ...                    25日「歌謡大祭典」のリハーサル中に残念な事故が発生しました。\n",
              "11  KO-JA-2020-KPOP-160512  ...  ホ・ジンホ監督が贈る非常に特別な映画「プレゼント」が10月28日公開を確定し、キャラクターた...\n",
              "12  KO-JA-2020-KPOP-160513  ...  特に、ある世帯がどれほど、ある位置、どんな状況の家を所有することなのかに対する理解争いが生じ...\n",
              "13  KO-JA-2020-KPOP-160514  ...  昨日午後放送されたMBC「覆面歌王」では、NORAZOの新しいメンバーのウォンフムが「アクア...\n",
              "14  KO-JA-2020-KPOP-160515  ...                      ネチズンが強く非難すると、結局ミンティは該当文を削除した。\n",
              "15  KO-JA-2020-KPOP-160516  ...  新しいメンバーたちが最初のバスキングを繰り広げる所は若い芸術家の天国として知られたドイツの首...\n",
              "16  KO-JA-2020-KPOP-160517  ...  一方、新概念「孝行芸能」で好評を集めているMBN「最高の一発」16回では首長体験に乗り出した...\n",
              "17  KO-JA-2020-KPOP-160518  ...  JTBC「私を探して」初放送前、5分30秒のハイライトが公開された以後、視聴者が一番待ってい...\n",
              "18  KO-JA-2020-KPOP-160519  ...  来月14日に封切り予定の映画大統領の7時間に対する映画ファンたちの関心が非常な中でポータルの...\n",
              "19  KO-JA-2020-KPOP-160520  ...  例えば、山に咲いている花が美しいと言って、その花を折ったり、モージョンに移ってきて和分に植え...\n",
              "\n",
              "[20 rows x 10 columns]"
            ]
          },
          "metadata": {},
          "execution_count": 192
        }
      ]
    },
    {
      "cell_type": "code",
      "metadata": {
        "colab": {
          "base_uri": "https://localhost:8080/",
          "height": 35
        },
        "id": "9lGd73H-JW4t",
        "outputId": "13735e5a-2c6a-4be9-8e64-82107de69a36"
      },
      "source": [
        "sample_val_df['한국어'].loc[18]"
      ],
      "execution_count": 226,
      "outputs": [
        {
          "output_type": "execute_result",
          "data": {
            "application/vnd.google.colaboratory.intrinsic+json": {
              "type": "string"
            },
            "text/plain": [
              "'다음달 14일 개봉 예정인 영화 대통령의 7시간에 대한 영화팬들의 관심이 비상한 가운데 포털 관심영화 1위에 올라 화제다.'"
            ]
          },
          "metadata": {},
          "execution_count": 226
        }
      ]
    },
    {
      "cell_type": "code",
      "metadata": {
        "colab": {
          "base_uri": "https://localhost:8080/"
        },
        "id": "deSbfdjgJK9d",
        "outputId": "6f27b81a-9e96-45dd-8f34-e08799977635"
      },
      "source": [
        "# 한국어 원문에 대한 google_trans 구글 번역 결과, papago_trans 파파고 번역 결과\n",
        "\n",
        "google_trans = [\n",
        "                'イベントは、「インディペンデントスピリットアワード（Independent Spirit Awards）」が主催したイベントだったが、NYTはイベントの雰囲気を説明しながら「多くの人が棒監督に写真を撮ろうと求めた」と伝えた。',\n",
        "                'また回り回って、ソウルで81歳最高齢申請者が「親不孝者は泣き」という曲をジョンドンウォンにお願いしたし、子供の頃、母と生き別れ事情を打ち明け得ている申請者は、孫のようなジョンドンウォンの声を聞くの特別な愛情を吐き出した。',\n",
        "                '生前父が長く国会議員補佐官をしていたギムムヨルは「父のすべてを共感することができませんが、側近という職業に対する理解度は持っている」と打ち明けた。',\n",
        "                '去る26日SBS「本格芸能真夜中」はハ・ジョンウとイ・ビョンホンが出演して、映画「白頭山」について話を交わした。',\n",
        "                'MCシン・ドンヨプがソン・ダムビの「母が結婚という言葉はないハシナ」と尋ねた。',\n",
        "                '世宗は賎民であるチャン・ヨンシルを調べてくれて、彼の能力を発揮できるように配慮してくれた。',\n",
        "                '息子と母親がぶつかったりもして、一歩退くする際のエネルギーもあったが、あまりにも上手くれた。',\n",
        "                '彼の兵役忌避論議を眺める大衆の非難は相変わらずだが、久しぶりに復帰した彼に向かって関心が熱い。',\n",
        "                '別のバルーン15億のレジェンドで有名なBJバクガリンが真っ白肌を露出した。',\n",
        "                '「ドリームキャッチャー」は歌も歌うが、カムバック前パフォーマンスに対するファンたちの期待が高いグループでもある。',\n",
        "                '去る25日「歌謡大典」のリハーサル中残念事故が発生しました。',\n",
        "                'ホ・ジノ監督がプレゼントする非常に特別な映画<ギフト>が来る10月28日公開を確定してキャラクターたちのコミカルケミが引き立つ30秒予告編を披露した。',\n",
        "                '特にどの家具がどの階、どの位置、どのような方法の家を所有するかについての理解争いが生じないように、8集にそれぞれの長所と魅力を発散するようにすることがカギだった。',\n",
        "                '昨日の午後放送されたMBC「ボクミョンガ王」ではノラジョの新しいメンバーウォンフムが「水族館」に出演した。',\n",
        "                'ネチズンが激しく非難しましょう、最終的にミンチは、文を削除した。',\n",
        "                '新しいメンバーが最初のバスキングを広げるのは、若い芸術家たちの天国として知られて、ドイツの首都ベルリンである。',\n",
        "                '一方、新概念「親孝行芸能」で好評を集めているMBN「最高の一発」16回では、牧場体験に出た」ことがミネラル家族」の楽しい時繰り広げられる。',\n",
        "                'JTBC「私を見つける」初放送前に、5分30秒のハイライトが公開された後、視聴者が最も待ち望ま場面がついに電波に乗る。',\n",
        "                '来月14日に公開予定の映画大統領の7時間の映画ファンたちの関心が非常た中ポータル関心映画1位に上がって話題だ。',\n",
        "                '例えば山に咲いている花が美しいし、その花を折ったり、こてに移しと鉢に植えておいて、自分の好みや好み通り育てることは愛ではなく、干渉であり、抑圧であり、暴力にほかならない。',\n",
        "]\n",
        "\n",
        "papago_trans = [\n",
        "                'イベントは「インディペンデント·スプリット·アワーズ」（Independent Spirit Awards）が主催したイベントで、NYTはイベントの雰囲気を説明し、「多くの人が奉監督に写真を撮ろうと要請した」と伝えた。',\n",
        "                'ソウルに戻り、ソウルで81歳の最高齢申請者が「親不孝者は泣きます」という曲をチョン·ドンウォンに頼み、幼い頃、母親と生き別れの事情を打ち明けた申請者は、孫のようなチョン·ドンウォンの声を聞くと、特別な愛情を示した。',\n",
        "                '生前、父親が長く国会議員補佐官を務めたキム·ムヨルは「父親のすべてには共感できないが、補佐官という職業に対する理解度は持っている」と打ち明けた。',\n",
        "                '今月26日、SBSの「本格芸能真夜中」にはハ·ジョンウとイ·ビョンホンが出演し、映画「白頭山（ペクトゥサン）」について話を交わした。',\n",
        "                'MCとシン・ドンヨプがソン・ダムビに\"母親が結婚するということはしないか\"と尋ねた。',\n",
        "                '世宗は賎民である蒋英実（チャン·ヨンシル）を調べ、彼が持つ能力を発揮できるように配慮した。',\n",
        "                '息子と母親がぶつかったり、一歩退かなければならない時のエネルギーもあったが、とてもよくしてくださった。',\n",
        "                '彼の兵役逃れ論議に対する大衆の非難は相変わらずだが、久しぶりに復帰した彼への関心が熱い。',\n",
        "                '星風船15億のレジェンドで有名なBJ朴ガリンが白い素肌をさらけ出した。',\n",
        "                'ドリームキャッチャーは歌も歌だが、カムバック前のパフォーマンスに対するファンの期待が高いグループでもある。',\n",
        "                '今月25日の「歌謡大典」のリハーサル中に残念な事故が発生しました。',\n",
        "                'ホ·ジンホ監督が贈る非常に特別な映画『贈り物』が10月28日公開を確定し、キャラクターたちのコミックなコンビネーションが引き立つ30秒予告編を披露した。',\n",
        "                '特に、どの世帯がどの階、どの位置、どの方式の家を所有するかに対する利害争いが起きないよう、8集にそれぞれの長所と魅力を発散させることがカギだった。',\n",
        "                '昨日午後に放送されたMBC「覆面歌王」では、ノラゾの新メンバー、ウォン·フムが「アクアリウム」として出演した。',\n",
        "                'ネチズンが激しく非難すると、結局、ミンティは該当文を削除した。',\n",
        "                '新しいメンバーが最初のバスキングを行う場所は、若い芸術家たちの天国として知られているドイツの首都ベルリンだ。',\n",
        "                '一方、新概念の「親孝行芸能」として好評を得ているMBN「最高の一発」16話では、牧場体験に出た「スミの家族」の楽しいひとときが繰り広げられる。',\n",
        "                'JTBC「Nittow」初放送前、5分30秒ハイライトが公開されて以降、視聴者が最も待ちわびていた場面がついに電波に乗る。',\n",
        "                '来月14日に封切られる予定の映画「大統領の7時間」に対する映画ファンの関心が注がれている中、ポータル関心映画1位に上がり話題を呼んでいる。',\n",
        "                '例えば、山に咲いている花が美しいとして、その花を折ったり、移植したてに移して植木鉢に植えておき、自分の好みや好みに合わせて育てることは、愛ではなく干渉であり、抑圧であり、暴力に他ならない。',\n",
        "]\n",
        "\n",
        "model_trans = list(sample_val_df['predict'])\n",
        "\n",
        "references = list(sample_val_df['일본어'])\n",
        "\n",
        "print(len(google_trans),len(papago_trans),len(model_trans),len(references))"
      ],
      "execution_count": 228,
      "outputs": [
        {
          "output_type": "stream",
          "name": "stdout",
          "text": [
            "20 20 20 20\n"
          ]
        }
      ]
    },
    {
      "cell_type": "code",
      "metadata": {
        "colab": {
          "base_uri": "https://localhost:8080/"
        },
        "id": "3nLfOan3NUd9",
        "outputId": "32e3ffc2-07a4-4f29-e2fb-928188efba70"
      },
      "source": [
        "google_bleu = []\n",
        "papago_bleu = []\n",
        "model_bleu = []\n",
        "\n",
        "def sentence_jp_ids(text):\n",
        "  return str(jp_vocab.encode_as_ids(text))\n",
        "\n",
        "for i in range(len(sample_val_df['한국어'])):\n",
        "  google_bleu.append(bleu.sentence_bleu([sentence_jp_ids(google_trans[i]).split(',')],sentence_jp_ids(references[i]).split(',')))\n",
        "  papago_bleu.append(bleu.sentence_bleu([sentence_jp_ids(papago_trans[i]).split(',')],sentence_jp_ids(references[i]).split(',')))\n",
        "  model_bleu.append(bleu.sentence_bleu([sentence_jp_ids(model_trans[i]).split(',')],sentence_jp_ids(references[i]).split(',')))\n",
        "\n",
        "print('구글 번역기 평균 bleu: ',round(sum(google_bleu)/len(google_bleu),3))\n",
        "print('파파고 평균 bleu: ',round(sum(papago_bleu)/len(papago_bleu),3))\n",
        "print('모델 평균 bleu: ',round(sum(model_bleu)/len(model_bleu),3))"
      ],
      "execution_count": 230,
      "outputs": [
        {
          "output_type": "stream",
          "name": "stdout",
          "text": [
            "구글 번역기 평균 bleu:  0.498\n",
            "파파고 평균 bleu:  0.606\n",
            "모델 평균 bleu:  0.62\n"
          ]
        }
      ]
    },
    {
      "cell_type": "code",
      "metadata": {
        "id": "G3rc3kb_NUgA"
      },
      "source": [
        ""
      ],
      "execution_count": null,
      "outputs": []
    },
    {
      "cell_type": "code",
      "metadata": {
        "id": "30H-MRBxmcDK"
      },
      "source": [
        ""
      ],
      "execution_count": null,
      "outputs": []
    }
  ]
}